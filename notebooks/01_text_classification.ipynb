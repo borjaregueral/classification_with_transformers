{
 "cells": [
  {
   "cell_type": "code",
   "execution_count": 1,
   "metadata": {},
   "outputs": [],
   "source": [
    "%reload_ext autoreload\n",
    "%autoreload 2"
   ]
  },
  {
   "cell_type": "markdown",
   "metadata": {},
   "source": [
    "# Arquitecturas Preentrenadas. Opción A. Clasificación de textos con redes preentrenadas\n",
    "\n",
    "El objetivo de este notebook es implementar un enfoque que combine el uso de embeddings preentrenados y modelos de machine learning clásicos para la clasificación de textos. En primer lugar, se utiliza el modelo preentrenado `paraphrase-albert-small-v2` para codificar las reseñas en embeddings densos. Estos embeddings se emplearán como características de entrada en modelos clásicos de clasificación, en este caso Random Forest y XGBoost, con el objetivo de predecir la calificación de las recomendaciones.\n",
    "\n",
    "Se evaluarán los resultados de estos dos modelos utilizando la muestra de validación disponible y se compararán con los resultados obtenidos con la arquitectura diseñada previamente. El análisis comparativo permitirá determinar qué modelo es más adecuado para este caso de uso. Finalmente, el modelo seleccionado se utilizará para predecir las calificaciones de las reseñas en el archivo `new_data.txt`.\n",
    "\n",
    "Se procede a cargar las librerías en el entorno"
   ]
  },
  {
   "cell_type": "code",
   "execution_count": 16,
   "metadata": {},
   "outputs": [],
   "source": [
    "from pathlib import Path\n",
    "\n",
    "import joblib\n",
    "import optuna\n",
    "import pandas as pd\n",
    "import numpy as np\n",
    "from imblearn.combine import SMOTEENN\n",
    "from imblearn.over_sampling import SMOTE\n",
    "from imblearn.pipeline import Pipeline as ImbPipeline\n",
    "\n",
    "from sentence_transformers import SentenceTransformer\n",
    "from sklearn.ensemble import RandomForestClassifier\n",
    "from sklearn.metrics import (accuracy_score, classification_report, \n",
    "                             confusion_matrix, f1_score, make_scorer, \n",
    "                             precision_score, recall_score)\n",
    "from sklearn.model_selection import (RepeatedStratifiedKFold, \n",
    "                                     cross_val_predict, cross_val_score, \n",
    "                                     train_test_split)\n",
    "import xgboost as xgb\n",
    "\n",
    "from transf.paths import DATA_DIR, MODELS_DIR\n",
    "from transf.preprocessing import (clean_text, plot_confusion_matrix,\n",
    "                                   plot_roc_curve)\n",
    "import transf.config as cfg"
   ]
  },
  {
   "cell_type": "markdown",
   "metadata": {},
   "source": [
    "Se carga un modelo preentrenado de embeddings, paraphrase-albert-small-v2, que se usará para transformar las reseñas en vectores de características numéricas. Asimimso, se define una estrategia de validación cruzada estratificada y repetida, que asegura que la proporción de clases se mantenga constante para obtener una estimación robusta del rendimiento. Finalmente, se crea un scorer personalizado basado en el F1-score, que puede ajustarse para utilizar diferentes umbrales de decisión en la clasificación, permitiendo medir la calidad del modelo en función de esta métrica como se hizo en el caso anterior."
   ]
  },
  {
   "cell_type": "code",
   "execution_count": 3,
   "metadata": {},
   "outputs": [
    {
     "name": "stderr",
     "output_type": "stream",
     "text": [
      "2024-09-11 22:38:13,686 - INFO - Use pytorch device_name: mps\n",
      "2024-09-11 22:38:13,686 - INFO - Load pretrained SentenceTransformer: paraphrase-albert-small-v2\n",
      "/Users/borja/Library/Caches/pypoetry/virtualenvs/class-trans-piHGrwZJ-py3.11/lib/python3.11/site-packages/transformers/tokenization_utils_base.py:1601: FutureWarning: `clean_up_tokenization_spaces` was not set. It will be set to `True` by default. This behavior will be depracted in transformers v4.45, and will be then set to `False` by default. For more details check this issue: https://github.com/huggingface/transformers/issues/31884\n",
      "  warnings.warn(\n"
     ]
    }
   ],
   "source": [
    "# Load the pre-trained model\n",
    "model = SentenceTransformer('paraphrase-albert-small-v2')\n",
    "\n",
    "# Define the cross-validation strategy\n",
    "cv = RepeatedStratifiedKFold(n_splits=cfg.N_SPLITS, n_repeats=cfg.N_REPEATS, random_state=cfg.SEED)\n",
    "\n",
    "# Custom scorer for F1-score with decision threshold (if needed)\n",
    "f1_scorer = make_scorer(f1_score)"
   ]
  },
  {
   "cell_type": "markdown",
   "metadata": {},
   "source": [
    "Se cargan los datos de la carpeta existente"
   ]
  },
  {
   "cell_type": "code",
   "execution_count": 4,
   "metadata": {},
   "outputs": [],
   "source": [
    "# Load data\n",
    "data_files = ['historical_data.csv', 'new_data.csv']\n",
    "data, new_data = [pd.read_csv(DATA_DIR / file) for file in data_files]"
   ]
  },
  {
   "cell_type": "markdown",
   "metadata": {},
   "source": [
    "Como se realizó anteriormente se cargan las palabras negativas con el fin de poder valorar mejor el sentimiento de una frase detemrinada."
   ]
  },
  {
   "cell_type": "code",
   "execution_count": 5,
   "metadata": {},
   "outputs": [],
   "source": [
    "# Load from the text file negations\n",
    "with open(Path(DATA_DIR / 'negations.txt'), 'r') as file:\n",
    "    negations = [line.strip() for line in file]"
   ]
  },
  {
   "cell_type": "markdown",
   "metadata": {},
   "source": [
    "Se procede a una limpieza básica del texto tanto de entrenamiento como final"
   ]
  },
  {
   "cell_type": "code",
   "execution_count": 6,
   "metadata": {},
   "outputs": [],
   "source": [
    "# Rename the columns and clean the text\n",
    "data = (\n",
    "    data\n",
    "    .rename(columns={'Recommended.IND': 'recommended', 'Review.Text': 'review'})\n",
    "    .assign(cleaned_review=lambda df: df['review'].apply(lambda x: clean_text(x, negations)))\n",
    ")\n",
    "\n",
    "# Apply the cleaning function to the review text columns and create new cleaned columns\n",
    "new_data = (\n",
    "    new_data\n",
    "    .assign(cleaned_review=lambda df: df['Review.Text'].apply(lambda x: clean_text(x, negations)))\n",
    ")"
   ]
  },
  {
   "cell_type": "markdown",
   "metadata": {},
   "source": [
    "Se definen los sets de entrenamiento y de validación además de convertir en listas los textos obtenidos."
   ]
  },
  {
   "cell_type": "code",
   "execution_count": 7,
   "metadata": {},
   "outputs": [],
   "source": [
    "# Define X and y variables\n",
    "X = data.drop(columns=['recommended', 'review'])\n",
    "y = data['recommended']\n",
    "\n",
    "# Split the data into training and validation sets and extract cleaned reviews\n",
    "X_train_reviews, X_val_reviews, y_train, y_val = train_test_split(\n",
    "    X['cleaned_review'].tolist(), \n",
    "    y, \n",
    "    test_size=cfg.VALIDATION_SPLIT, \n",
    "    stratify=y,\n",
    "    random_state=cfg.SEED)"
   ]
  },
  {
   "cell_type": "markdown",
   "metadata": {},
   "source": [
    "Una ve separado el texto se convierten las recomendaciones de texto en embeddings numéricos utilizando el modelo preentrenado. Cada conjunto de recomendaciones (tanto de entrenamiento como de validación) se transforma en una representación numérica vectorial. Estos embeddings capturan el significado semántico y se utilizarán como entradas para los modelos de machine learning clásicos que se utilizarán para clasificación binaria."
   ]
  },
  {
   "cell_type": "code",
   "execution_count": 8,
   "metadata": {},
   "outputs": [
    {
     "data": {
      "application/vnd.jupyter.widget-view+json": {
       "model_id": "0c340de6d98749e992077f849a9e4463",
       "version_major": 2,
       "version_minor": 0
      },
      "text/plain": [
       "Batches:   0%|          | 0/113 [00:00<?, ?it/s]"
      ]
     },
     "metadata": {},
     "output_type": "display_data"
    },
    {
     "data": {
      "application/vnd.jupyter.widget-view+json": {
       "model_id": "53a9de7ba36d4f3998cdcfeea7d1bd52",
       "version_major": 2,
       "version_minor": 0
      },
      "text/plain": [
       "Batches:   0%|          | 0/29 [00:00<?, ?it/s]"
      ]
     },
     "metadata": {},
     "output_type": "display_data"
    }
   ],
   "source": [
    "# Encode the reviews\n",
    "X_train_embeddings, X_val_embeddings = [model.encode(reviews) for reviews in [X_train_reviews, X_val_reviews]]"
   ]
  },
  {
   "cell_type": "markdown",
   "metadata": {},
   "source": [
    "Se define la optimización de hiperparámetros para un modelo Random Forest. Se configuran los como el número de árboles, la profundidad máxima de los árboles y la estrategia para manejar el desbalance de clases. A través de un pipeline que incluye la técnica SMOTE para el sobremuestreo de la clase minoritaria. Se evalúa el rendimiento del modelo utilizando validación cruzada y el F1-score como métrica principal al igul que se hizo con la red neuronal en el caso anterior."
   ]
  },
  {
   "cell_type": "code",
   "execution_count": 9,
   "metadata": {},
   "outputs": [],
   "source": [
    "# define the objective function for the Random Forest classifier\n",
    "def objective_rf(trial):\n",
    "    param = {\n",
    "        'n_estimators': trial.suggest_int('n_estimators', 100, 3000),\n",
    "        'max_depth': trial.suggest_int('max_depth', 3, 50),\n",
    "        'max_features': trial.suggest_categorical('max_features', ['sqrt', 'log2', None]),\n",
    "        'bootstrap': trial.suggest_categorical('bootstrap', [True, False]),\n",
    "        'class_weight': trial.suggest_categorical('class_weight', [None, 'balanced', 'balanced_subsample'])\n",
    "    }\n",
    "    pipeline = ImbPipeline([\n",
    "        ('smoteenn', SMOTE(sampling_strategy='minority')),\n",
    "        ('classifier', RandomForestClassifier(**param))\n",
    "    ])\n",
    "    cv_scores = cross_val_score(pipeline, X_train_embeddings, y_train, cv=cv, scoring=f1_scorer, n_jobs=-1)\n",
    "    return cv_scores.mean()"
   ]
  },
  {
   "cell_type": "markdown",
   "metadata": {},
   "source": [
    "Se crea el estudio que maximize el score elegido a través de 10 pruebas que se realoarán en paralelo."
   ]
  },
  {
   "cell_type": "code",
   "execution_count": 10,
   "metadata": {},
   "outputs": [
    {
     "name": "stderr",
     "output_type": "stream",
     "text": [
      "[I 2024-09-10 01:22:13,741] A new study created in memory with name: no-name-69509271-31dc-47f9-bf26-4c998fc8d57f\n",
      "[I 2024-09-10 02:06:12,192] Trial 3 finished with value: 0.9081167281810609 and parameters: {'n_estimators': 2853, 'max_depth': 34, 'max_features': 'sqrt', 'bootstrap': False, 'class_weight': 'balanced'}. Best is trial 3 with value: 0.9081167281810609.\n",
      "[I 2024-09-10 05:55:35,955] Trial 6 finished with value: 0.8997331456637452 and parameters: {'n_estimators': 2035, 'max_depth': 25, 'max_features': None, 'bootstrap': True, 'class_weight': 'balanced_subsample'}. Best is trial 3 with value: 0.9081167281810609.\n",
      "[I 2024-09-10 06:59:01,052] Trial 7 finished with value: 0.8698190895061583 and parameters: {'n_estimators': 2926, 'max_depth': 7, 'max_features': None, 'bootstrap': True, 'class_weight': 'balanced_subsample'}. Best is trial 3 with value: 0.9081167281810609.\n",
      "[I 2024-09-10 07:17:45,564] Trial 2 finished with value: 0.8195324921055709 and parameters: {'n_estimators': 195, 'max_depth': 32, 'max_features': None, 'bootstrap': False, 'class_weight': 'balanced'}. Best is trial 3 with value: 0.9081167281810609.\n",
      "[I 2024-09-10 07:45:11,927] Trial 1 finished with value: 0.908442162788902 and parameters: {'n_estimators': 1725, 'max_depth': 21, 'max_features': 'sqrt', 'bootstrap': False, 'class_weight': 'balanced'}. Best is trial 1 with value: 0.908442162788902.\n",
      "[I 2024-09-10 07:47:00,740] Trial 4 finished with value: 0.9061263285852348 and parameters: {'n_estimators': 779, 'max_depth': 41, 'max_features': 'log2', 'bootstrap': True, 'class_weight': 'balanced_subsample'}. Best is trial 1 with value: 0.908442162788902.\n",
      "[I 2024-09-10 08:00:42,587] Trial 8 finished with value: 0.9070759561192719 and parameters: {'n_estimators': 237, 'max_depth': 50, 'max_features': 'log2', 'bootstrap': True, 'class_weight': 'balanced'}. Best is trial 1 with value: 0.908442162788902.\n",
      "[I 2024-09-10 08:00:43,680] Trial 0 finished with value: 0.9074126796606166 and parameters: {'n_estimators': 2869, 'max_depth': 19, 'max_features': 'log2', 'bootstrap': False, 'class_weight': 'balanced_subsample'}. Best is trial 1 with value: 0.908442162788902.\n",
      "[I 2024-09-10 10:05:46,997] Trial 5 finished with value: 0.8999404436604745 and parameters: {'n_estimators': 1700, 'max_depth': 49, 'max_features': None, 'bootstrap': True, 'class_weight': None}. Best is trial 1 with value: 0.908442162788902.\n",
      "[I 2024-09-10 10:30:40,500] Trial 9 finished with value: 0.725220790260488 and parameters: {'n_estimators': 1815, 'max_depth': 4, 'max_features': None, 'bootstrap': False, 'class_weight': 'balanced_subsample'}. Best is trial 1 with value: 0.908442162788902.\n"
     ]
    },
    {
     "name": "stdout",
     "output_type": "stream",
     "text": [
      "Best hyperparameters for Random Forest: {'n_estimators': 1725, 'max_depth': 21, 'max_features': 'sqrt', 'bootstrap': False, 'class_weight': 'balanced'}\n",
      "Best score for Random Forest: 0.908442162788902\n"
     ]
    }
   ],
   "source": [
    "# Create a study object, optimize the objective function with parallelization, and print the best hyperparameters and score\n",
    "study_rf = optuna.create_study(direction='maximize')\n",
    "study_rf.optimize(objective_rf, n_trials=10, n_jobs=-1)\n",
    "\n",
    "# Print the best hyperparameters and score\n",
    "print(f'Best hyperparameters for Random Forest: {study_rf.best_params}\\nBest score for Random Forest: {study_rf.best_value}')"
   ]
  },
  {
   "cell_type": "markdown",
   "metadata": {},
   "source": [
    "Se obtienen los hiperparámetros del modelo de random forest \n",
    "\n",
    " - `n_estimators`: 1725, El número de árboles en el bosque es relativamente alto, lo que permite al modelo tener una mayor capacidad para aprender patrones complejos mejorando la estabilidad y precisión del modelo.\n",
    "\n",
    "- `max_depth`: 21, Una profundidad máxima de 21 equilibra la capacidad del modelo para aprender relaciones complejas sin llegar a sobreajustarse a los datos y perder generalización.\n",
    "\n",
    "- `max_features`: 'sqrt', Selecciona la raíz cuadrada del número total de características en cada división reduciendo la variabilidad y por tanto dando robuestez al modelo.\n",
    "\n",
    "- `class_weight`: 'balanced', La ponderación de clases equilibrada asigna más peso a la clase minoritaria para manejar el desbalance de clases, mejorando la capacidad de clasificación de aquella que es significativamente menos frecuente\n",
    "\n",
    "No se utiliza `bootstrap`, lo que significa que el modelo entrena con todos los datos sin generar subconjuntos aleatorios para cada árbol. Esto puede permitir que el modelo capture más información, pero a la vez reduce la diversidad entre los árboles, lo que podría influir en la capacidad del modelo para generalizar.\n",
    "\n",
    "El modelo ogró un F1-score de 0.908, lo que indica un buen equilibrio entre precisión y recall de especial relevancia en este caso por el fuerte debalance de clases existente."
   ]
  },
  {
   "cell_type": "code",
   "execution_count": 11,
   "metadata": {},
   "outputs": [
    {
     "data": {
      "application/vnd.plotly.v1+json": {
       "config": {
        "plotlyServerURL": "https://plot.ly"
       },
       "data": [
        {
         "mode": "markers",
         "name": "Objective Value",
         "type": "scatter",
         "x": [
          0,
          1,
          2,
          3,
          4,
          5,
          6,
          7,
          8,
          9
         ],
         "y": [
          0.9074126796606166,
          0.908442162788902,
          0.8195324921055709,
          0.9081167281810609,
          0.9061263285852348,
          0.8999404436604745,
          0.8997331456637452,
          0.8698190895061583,
          0.9070759561192719,
          0.725220790260488
         ]
        },
        {
         "mode": "lines",
         "name": "Best Value",
         "type": "scatter",
         "x": [
          0,
          1,
          2,
          3,
          4,
          5,
          6,
          7,
          8,
          9
         ],
         "y": [
          0.9074126796606166,
          0.908442162788902,
          0.908442162788902,
          0.908442162788902,
          0.908442162788902,
          0.908442162788902,
          0.908442162788902,
          0.908442162788902,
          0.908442162788902,
          0.908442162788902
         ]
        },
        {
         "marker": {
          "color": "#cccccc"
         },
         "mode": "markers",
         "name": "Infeasible Trial",
         "showlegend": false,
         "type": "scatter",
         "x": [],
         "y": []
        }
       ],
       "layout": {
        "template": {
         "data": {
          "bar": [
           {
            "error_x": {
             "color": "#2a3f5f"
            },
            "error_y": {
             "color": "#2a3f5f"
            },
            "marker": {
             "line": {
              "color": "#E5ECF6",
              "width": 0.5
             },
             "pattern": {
              "fillmode": "overlay",
              "size": 10,
              "solidity": 0.2
             }
            },
            "type": "bar"
           }
          ],
          "barpolar": [
           {
            "marker": {
             "line": {
              "color": "#E5ECF6",
              "width": 0.5
             },
             "pattern": {
              "fillmode": "overlay",
              "size": 10,
              "solidity": 0.2
             }
            },
            "type": "barpolar"
           }
          ],
          "carpet": [
           {
            "aaxis": {
             "endlinecolor": "#2a3f5f",
             "gridcolor": "white",
             "linecolor": "white",
             "minorgridcolor": "white",
             "startlinecolor": "#2a3f5f"
            },
            "baxis": {
             "endlinecolor": "#2a3f5f",
             "gridcolor": "white",
             "linecolor": "white",
             "minorgridcolor": "white",
             "startlinecolor": "#2a3f5f"
            },
            "type": "carpet"
           }
          ],
          "choropleth": [
           {
            "colorbar": {
             "outlinewidth": 0,
             "ticks": ""
            },
            "type": "choropleth"
           }
          ],
          "contour": [
           {
            "colorbar": {
             "outlinewidth": 0,
             "ticks": ""
            },
            "colorscale": [
             [
              0,
              "#0d0887"
             ],
             [
              0.1111111111111111,
              "#46039f"
             ],
             [
              0.2222222222222222,
              "#7201a8"
             ],
             [
              0.3333333333333333,
              "#9c179e"
             ],
             [
              0.4444444444444444,
              "#bd3786"
             ],
             [
              0.5555555555555556,
              "#d8576b"
             ],
             [
              0.6666666666666666,
              "#ed7953"
             ],
             [
              0.7777777777777778,
              "#fb9f3a"
             ],
             [
              0.8888888888888888,
              "#fdca26"
             ],
             [
              1,
              "#f0f921"
             ]
            ],
            "type": "contour"
           }
          ],
          "contourcarpet": [
           {
            "colorbar": {
             "outlinewidth": 0,
             "ticks": ""
            },
            "type": "contourcarpet"
           }
          ],
          "heatmap": [
           {
            "colorbar": {
             "outlinewidth": 0,
             "ticks": ""
            },
            "colorscale": [
             [
              0,
              "#0d0887"
             ],
             [
              0.1111111111111111,
              "#46039f"
             ],
             [
              0.2222222222222222,
              "#7201a8"
             ],
             [
              0.3333333333333333,
              "#9c179e"
             ],
             [
              0.4444444444444444,
              "#bd3786"
             ],
             [
              0.5555555555555556,
              "#d8576b"
             ],
             [
              0.6666666666666666,
              "#ed7953"
             ],
             [
              0.7777777777777778,
              "#fb9f3a"
             ],
             [
              0.8888888888888888,
              "#fdca26"
             ],
             [
              1,
              "#f0f921"
             ]
            ],
            "type": "heatmap"
           }
          ],
          "heatmapgl": [
           {
            "colorbar": {
             "outlinewidth": 0,
             "ticks": ""
            },
            "colorscale": [
             [
              0,
              "#0d0887"
             ],
             [
              0.1111111111111111,
              "#46039f"
             ],
             [
              0.2222222222222222,
              "#7201a8"
             ],
             [
              0.3333333333333333,
              "#9c179e"
             ],
             [
              0.4444444444444444,
              "#bd3786"
             ],
             [
              0.5555555555555556,
              "#d8576b"
             ],
             [
              0.6666666666666666,
              "#ed7953"
             ],
             [
              0.7777777777777778,
              "#fb9f3a"
             ],
             [
              0.8888888888888888,
              "#fdca26"
             ],
             [
              1,
              "#f0f921"
             ]
            ],
            "type": "heatmapgl"
           }
          ],
          "histogram": [
           {
            "marker": {
             "pattern": {
              "fillmode": "overlay",
              "size": 10,
              "solidity": 0.2
             }
            },
            "type": "histogram"
           }
          ],
          "histogram2d": [
           {
            "colorbar": {
             "outlinewidth": 0,
             "ticks": ""
            },
            "colorscale": [
             [
              0,
              "#0d0887"
             ],
             [
              0.1111111111111111,
              "#46039f"
             ],
             [
              0.2222222222222222,
              "#7201a8"
             ],
             [
              0.3333333333333333,
              "#9c179e"
             ],
             [
              0.4444444444444444,
              "#bd3786"
             ],
             [
              0.5555555555555556,
              "#d8576b"
             ],
             [
              0.6666666666666666,
              "#ed7953"
             ],
             [
              0.7777777777777778,
              "#fb9f3a"
             ],
             [
              0.8888888888888888,
              "#fdca26"
             ],
             [
              1,
              "#f0f921"
             ]
            ],
            "type": "histogram2d"
           }
          ],
          "histogram2dcontour": [
           {
            "colorbar": {
             "outlinewidth": 0,
             "ticks": ""
            },
            "colorscale": [
             [
              0,
              "#0d0887"
             ],
             [
              0.1111111111111111,
              "#46039f"
             ],
             [
              0.2222222222222222,
              "#7201a8"
             ],
             [
              0.3333333333333333,
              "#9c179e"
             ],
             [
              0.4444444444444444,
              "#bd3786"
             ],
             [
              0.5555555555555556,
              "#d8576b"
             ],
             [
              0.6666666666666666,
              "#ed7953"
             ],
             [
              0.7777777777777778,
              "#fb9f3a"
             ],
             [
              0.8888888888888888,
              "#fdca26"
             ],
             [
              1,
              "#f0f921"
             ]
            ],
            "type": "histogram2dcontour"
           }
          ],
          "mesh3d": [
           {
            "colorbar": {
             "outlinewidth": 0,
             "ticks": ""
            },
            "type": "mesh3d"
           }
          ],
          "parcoords": [
           {
            "line": {
             "colorbar": {
              "outlinewidth": 0,
              "ticks": ""
             }
            },
            "type": "parcoords"
           }
          ],
          "pie": [
           {
            "automargin": true,
            "type": "pie"
           }
          ],
          "scatter": [
           {
            "fillpattern": {
             "fillmode": "overlay",
             "size": 10,
             "solidity": 0.2
            },
            "type": "scatter"
           }
          ],
          "scatter3d": [
           {
            "line": {
             "colorbar": {
              "outlinewidth": 0,
              "ticks": ""
             }
            },
            "marker": {
             "colorbar": {
              "outlinewidth": 0,
              "ticks": ""
             }
            },
            "type": "scatter3d"
           }
          ],
          "scattercarpet": [
           {
            "marker": {
             "colorbar": {
              "outlinewidth": 0,
              "ticks": ""
             }
            },
            "type": "scattercarpet"
           }
          ],
          "scattergeo": [
           {
            "marker": {
             "colorbar": {
              "outlinewidth": 0,
              "ticks": ""
             }
            },
            "type": "scattergeo"
           }
          ],
          "scattergl": [
           {
            "marker": {
             "colorbar": {
              "outlinewidth": 0,
              "ticks": ""
             }
            },
            "type": "scattergl"
           }
          ],
          "scattermapbox": [
           {
            "marker": {
             "colorbar": {
              "outlinewidth": 0,
              "ticks": ""
             }
            },
            "type": "scattermapbox"
           }
          ],
          "scatterpolar": [
           {
            "marker": {
             "colorbar": {
              "outlinewidth": 0,
              "ticks": ""
             }
            },
            "type": "scatterpolar"
           }
          ],
          "scatterpolargl": [
           {
            "marker": {
             "colorbar": {
              "outlinewidth": 0,
              "ticks": ""
             }
            },
            "type": "scatterpolargl"
           }
          ],
          "scatterternary": [
           {
            "marker": {
             "colorbar": {
              "outlinewidth": 0,
              "ticks": ""
             }
            },
            "type": "scatterternary"
           }
          ],
          "surface": [
           {
            "colorbar": {
             "outlinewidth": 0,
             "ticks": ""
            },
            "colorscale": [
             [
              0,
              "#0d0887"
             ],
             [
              0.1111111111111111,
              "#46039f"
             ],
             [
              0.2222222222222222,
              "#7201a8"
             ],
             [
              0.3333333333333333,
              "#9c179e"
             ],
             [
              0.4444444444444444,
              "#bd3786"
             ],
             [
              0.5555555555555556,
              "#d8576b"
             ],
             [
              0.6666666666666666,
              "#ed7953"
             ],
             [
              0.7777777777777778,
              "#fb9f3a"
             ],
             [
              0.8888888888888888,
              "#fdca26"
             ],
             [
              1,
              "#f0f921"
             ]
            ],
            "type": "surface"
           }
          ],
          "table": [
           {
            "cells": {
             "fill": {
              "color": "#EBF0F8"
             },
             "line": {
              "color": "white"
             }
            },
            "header": {
             "fill": {
              "color": "#C8D4E3"
             },
             "line": {
              "color": "white"
             }
            },
            "type": "table"
           }
          ]
         },
         "layout": {
          "annotationdefaults": {
           "arrowcolor": "#2a3f5f",
           "arrowhead": 0,
           "arrowwidth": 1
          },
          "autotypenumbers": "strict",
          "coloraxis": {
           "colorbar": {
            "outlinewidth": 0,
            "ticks": ""
           }
          },
          "colorscale": {
           "diverging": [
            [
             0,
             "#8e0152"
            ],
            [
             0.1,
             "#c51b7d"
            ],
            [
             0.2,
             "#de77ae"
            ],
            [
             0.3,
             "#f1b6da"
            ],
            [
             0.4,
             "#fde0ef"
            ],
            [
             0.5,
             "#f7f7f7"
            ],
            [
             0.6,
             "#e6f5d0"
            ],
            [
             0.7,
             "#b8e186"
            ],
            [
             0.8,
             "#7fbc41"
            ],
            [
             0.9,
             "#4d9221"
            ],
            [
             1,
             "#276419"
            ]
           ],
           "sequential": [
            [
             0,
             "#0d0887"
            ],
            [
             0.1111111111111111,
             "#46039f"
            ],
            [
             0.2222222222222222,
             "#7201a8"
            ],
            [
             0.3333333333333333,
             "#9c179e"
            ],
            [
             0.4444444444444444,
             "#bd3786"
            ],
            [
             0.5555555555555556,
             "#d8576b"
            ],
            [
             0.6666666666666666,
             "#ed7953"
            ],
            [
             0.7777777777777778,
             "#fb9f3a"
            ],
            [
             0.8888888888888888,
             "#fdca26"
            ],
            [
             1,
             "#f0f921"
            ]
           ],
           "sequentialminus": [
            [
             0,
             "#0d0887"
            ],
            [
             0.1111111111111111,
             "#46039f"
            ],
            [
             0.2222222222222222,
             "#7201a8"
            ],
            [
             0.3333333333333333,
             "#9c179e"
            ],
            [
             0.4444444444444444,
             "#bd3786"
            ],
            [
             0.5555555555555556,
             "#d8576b"
            ],
            [
             0.6666666666666666,
             "#ed7953"
            ],
            [
             0.7777777777777778,
             "#fb9f3a"
            ],
            [
             0.8888888888888888,
             "#fdca26"
            ],
            [
             1,
             "#f0f921"
            ]
           ]
          },
          "colorway": [
           "#636efa",
           "#EF553B",
           "#00cc96",
           "#ab63fa",
           "#FFA15A",
           "#19d3f3",
           "#FF6692",
           "#B6E880",
           "#FF97FF",
           "#FECB52"
          ],
          "font": {
           "color": "#2a3f5f"
          },
          "geo": {
           "bgcolor": "white",
           "lakecolor": "white",
           "landcolor": "#E5ECF6",
           "showlakes": true,
           "showland": true,
           "subunitcolor": "white"
          },
          "hoverlabel": {
           "align": "left"
          },
          "hovermode": "closest",
          "mapbox": {
           "style": "light"
          },
          "paper_bgcolor": "white",
          "plot_bgcolor": "#E5ECF6",
          "polar": {
           "angularaxis": {
            "gridcolor": "white",
            "linecolor": "white",
            "ticks": ""
           },
           "bgcolor": "#E5ECF6",
           "radialaxis": {
            "gridcolor": "white",
            "linecolor": "white",
            "ticks": ""
           }
          },
          "scene": {
           "xaxis": {
            "backgroundcolor": "#E5ECF6",
            "gridcolor": "white",
            "gridwidth": 2,
            "linecolor": "white",
            "showbackground": true,
            "ticks": "",
            "zerolinecolor": "white"
           },
           "yaxis": {
            "backgroundcolor": "#E5ECF6",
            "gridcolor": "white",
            "gridwidth": 2,
            "linecolor": "white",
            "showbackground": true,
            "ticks": "",
            "zerolinecolor": "white"
           },
           "zaxis": {
            "backgroundcolor": "#E5ECF6",
            "gridcolor": "white",
            "gridwidth": 2,
            "linecolor": "white",
            "showbackground": true,
            "ticks": "",
            "zerolinecolor": "white"
           }
          },
          "shapedefaults": {
           "line": {
            "color": "#2a3f5f"
           }
          },
          "ternary": {
           "aaxis": {
            "gridcolor": "white",
            "linecolor": "white",
            "ticks": ""
           },
           "baxis": {
            "gridcolor": "white",
            "linecolor": "white",
            "ticks": ""
           },
           "bgcolor": "#E5ECF6",
           "caxis": {
            "gridcolor": "white",
            "linecolor": "white",
            "ticks": ""
           }
          },
          "title": {
           "x": 0.05
          },
          "xaxis": {
           "automargin": true,
           "gridcolor": "white",
           "linecolor": "white",
           "ticks": "",
           "title": {
            "standoff": 15
           },
           "zerolinecolor": "white",
           "zerolinewidth": 2
          },
          "yaxis": {
           "automargin": true,
           "gridcolor": "white",
           "linecolor": "white",
           "ticks": "",
           "title": {
            "standoff": 15
           },
           "zerolinecolor": "white",
           "zerolinewidth": 2
          }
         }
        },
        "title": {
         "text": "Optimization History Plot"
        },
        "xaxis": {
         "title": {
          "text": "Trial"
         }
        },
        "yaxis": {
         "title": {
          "text": "Objective Value"
         }
        }
       }
      }
     },
     "metadata": {},
     "output_type": "display_data"
    },
    {
     "data": {
      "application/vnd.plotly.v1+json": {
       "config": {
        "plotlyServerURL": "https://plot.ly"
       },
       "data": [
        {
         "dimensions": [
          {
           "label": "Objective Value",
           "range": [
            0.725220790260488,
            0.908442162788902
           ],
           "values": [
            0.9074126796606166,
            0.908442162788902,
            0.8195324921055709,
            0.9081167281810609,
            0.9061263285852348,
            0.8999404436604745,
            0.8997331456637452,
            0.8698190895061583,
            0.9070759561192719,
            0.725220790260488
           ]
          },
          {
           "label": "bootstrap",
           "range": [
            0,
            1
           ],
           "ticktext": [
            "False",
            "True"
           ],
           "tickvals": [
            0,
            1
           ],
           "values": [
            0,
            0,
            0,
            0,
            1,
            1,
            1,
            1,
            1,
            0
           ]
          },
          {
           "label": "class_weight",
           "range": [
            0,
            2
           ],
           "ticktext": [
            "balanced_subsample",
            "balanced",
            "None"
           ],
           "tickvals": [
            0,
            1,
            2
           ],
           "values": [
            0,
            1,
            1,
            1,
            0,
            2,
            0,
            0,
            1,
            0
           ]
          },
          {
           "label": "max_depth",
           "range": [
            4,
            50
           ],
           "values": [
            19,
            21,
            32,
            34,
            41,
            49,
            25,
            7,
            50,
            4
           ]
          },
          {
           "label": "max_features",
           "range": [
            0,
            2
           ],
           "ticktext": [
            "log2",
            "sqrt",
            "None"
           ],
           "tickvals": [
            0,
            1,
            2
           ],
           "values": [
            0,
            1,
            2,
            1,
            0,
            2,
            2,
            2,
            0,
            2
           ]
          },
          {
           "label": "n_estimators",
           "range": [
            195,
            2926
           ],
           "values": [
            2869,
            1725,
            195,
            2853,
            779,
            1700,
            2035,
            2926,
            237,
            1815
           ]
          }
         ],
         "labelangle": 30,
         "labelside": "bottom",
         "line": {
          "color": [
           0.9074126796606166,
           0.908442162788902,
           0.8195324921055709,
           0.9081167281810609,
           0.9061263285852348,
           0.8999404436604745,
           0.8997331456637452,
           0.8698190895061583,
           0.9070759561192719,
           0.725220790260488
          ],
          "colorbar": {
           "title": {
            "text": "Objective Value"
           }
          },
          "colorscale": [
           [
            0,
            "rgb(247,251,255)"
           ],
           [
            0.125,
            "rgb(222,235,247)"
           ],
           [
            0.25,
            "rgb(198,219,239)"
           ],
           [
            0.375,
            "rgb(158,202,225)"
           ],
           [
            0.5,
            "rgb(107,174,214)"
           ],
           [
            0.625,
            "rgb(66,146,198)"
           ],
           [
            0.75,
            "rgb(33,113,181)"
           ],
           [
            0.875,
            "rgb(8,81,156)"
           ],
           [
            1,
            "rgb(8,48,107)"
           ]
          ],
          "reversescale": false,
          "showscale": true
         },
         "type": "parcoords"
        }
       ],
       "layout": {
        "template": {
         "data": {
          "bar": [
           {
            "error_x": {
             "color": "#2a3f5f"
            },
            "error_y": {
             "color": "#2a3f5f"
            },
            "marker": {
             "line": {
              "color": "#E5ECF6",
              "width": 0.5
             },
             "pattern": {
              "fillmode": "overlay",
              "size": 10,
              "solidity": 0.2
             }
            },
            "type": "bar"
           }
          ],
          "barpolar": [
           {
            "marker": {
             "line": {
              "color": "#E5ECF6",
              "width": 0.5
             },
             "pattern": {
              "fillmode": "overlay",
              "size": 10,
              "solidity": 0.2
             }
            },
            "type": "barpolar"
           }
          ],
          "carpet": [
           {
            "aaxis": {
             "endlinecolor": "#2a3f5f",
             "gridcolor": "white",
             "linecolor": "white",
             "minorgridcolor": "white",
             "startlinecolor": "#2a3f5f"
            },
            "baxis": {
             "endlinecolor": "#2a3f5f",
             "gridcolor": "white",
             "linecolor": "white",
             "minorgridcolor": "white",
             "startlinecolor": "#2a3f5f"
            },
            "type": "carpet"
           }
          ],
          "choropleth": [
           {
            "colorbar": {
             "outlinewidth": 0,
             "ticks": ""
            },
            "type": "choropleth"
           }
          ],
          "contour": [
           {
            "colorbar": {
             "outlinewidth": 0,
             "ticks": ""
            },
            "colorscale": [
             [
              0,
              "#0d0887"
             ],
             [
              0.1111111111111111,
              "#46039f"
             ],
             [
              0.2222222222222222,
              "#7201a8"
             ],
             [
              0.3333333333333333,
              "#9c179e"
             ],
             [
              0.4444444444444444,
              "#bd3786"
             ],
             [
              0.5555555555555556,
              "#d8576b"
             ],
             [
              0.6666666666666666,
              "#ed7953"
             ],
             [
              0.7777777777777778,
              "#fb9f3a"
             ],
             [
              0.8888888888888888,
              "#fdca26"
             ],
             [
              1,
              "#f0f921"
             ]
            ],
            "type": "contour"
           }
          ],
          "contourcarpet": [
           {
            "colorbar": {
             "outlinewidth": 0,
             "ticks": ""
            },
            "type": "contourcarpet"
           }
          ],
          "heatmap": [
           {
            "colorbar": {
             "outlinewidth": 0,
             "ticks": ""
            },
            "colorscale": [
             [
              0,
              "#0d0887"
             ],
             [
              0.1111111111111111,
              "#46039f"
             ],
             [
              0.2222222222222222,
              "#7201a8"
             ],
             [
              0.3333333333333333,
              "#9c179e"
             ],
             [
              0.4444444444444444,
              "#bd3786"
             ],
             [
              0.5555555555555556,
              "#d8576b"
             ],
             [
              0.6666666666666666,
              "#ed7953"
             ],
             [
              0.7777777777777778,
              "#fb9f3a"
             ],
             [
              0.8888888888888888,
              "#fdca26"
             ],
             [
              1,
              "#f0f921"
             ]
            ],
            "type": "heatmap"
           }
          ],
          "heatmapgl": [
           {
            "colorbar": {
             "outlinewidth": 0,
             "ticks": ""
            },
            "colorscale": [
             [
              0,
              "#0d0887"
             ],
             [
              0.1111111111111111,
              "#46039f"
             ],
             [
              0.2222222222222222,
              "#7201a8"
             ],
             [
              0.3333333333333333,
              "#9c179e"
             ],
             [
              0.4444444444444444,
              "#bd3786"
             ],
             [
              0.5555555555555556,
              "#d8576b"
             ],
             [
              0.6666666666666666,
              "#ed7953"
             ],
             [
              0.7777777777777778,
              "#fb9f3a"
             ],
             [
              0.8888888888888888,
              "#fdca26"
             ],
             [
              1,
              "#f0f921"
             ]
            ],
            "type": "heatmapgl"
           }
          ],
          "histogram": [
           {
            "marker": {
             "pattern": {
              "fillmode": "overlay",
              "size": 10,
              "solidity": 0.2
             }
            },
            "type": "histogram"
           }
          ],
          "histogram2d": [
           {
            "colorbar": {
             "outlinewidth": 0,
             "ticks": ""
            },
            "colorscale": [
             [
              0,
              "#0d0887"
             ],
             [
              0.1111111111111111,
              "#46039f"
             ],
             [
              0.2222222222222222,
              "#7201a8"
             ],
             [
              0.3333333333333333,
              "#9c179e"
             ],
             [
              0.4444444444444444,
              "#bd3786"
             ],
             [
              0.5555555555555556,
              "#d8576b"
             ],
             [
              0.6666666666666666,
              "#ed7953"
             ],
             [
              0.7777777777777778,
              "#fb9f3a"
             ],
             [
              0.8888888888888888,
              "#fdca26"
             ],
             [
              1,
              "#f0f921"
             ]
            ],
            "type": "histogram2d"
           }
          ],
          "histogram2dcontour": [
           {
            "colorbar": {
             "outlinewidth": 0,
             "ticks": ""
            },
            "colorscale": [
             [
              0,
              "#0d0887"
             ],
             [
              0.1111111111111111,
              "#46039f"
             ],
             [
              0.2222222222222222,
              "#7201a8"
             ],
             [
              0.3333333333333333,
              "#9c179e"
             ],
             [
              0.4444444444444444,
              "#bd3786"
             ],
             [
              0.5555555555555556,
              "#d8576b"
             ],
             [
              0.6666666666666666,
              "#ed7953"
             ],
             [
              0.7777777777777778,
              "#fb9f3a"
             ],
             [
              0.8888888888888888,
              "#fdca26"
             ],
             [
              1,
              "#f0f921"
             ]
            ],
            "type": "histogram2dcontour"
           }
          ],
          "mesh3d": [
           {
            "colorbar": {
             "outlinewidth": 0,
             "ticks": ""
            },
            "type": "mesh3d"
           }
          ],
          "parcoords": [
           {
            "line": {
             "colorbar": {
              "outlinewidth": 0,
              "ticks": ""
             }
            },
            "type": "parcoords"
           }
          ],
          "pie": [
           {
            "automargin": true,
            "type": "pie"
           }
          ],
          "scatter": [
           {
            "fillpattern": {
             "fillmode": "overlay",
             "size": 10,
             "solidity": 0.2
            },
            "type": "scatter"
           }
          ],
          "scatter3d": [
           {
            "line": {
             "colorbar": {
              "outlinewidth": 0,
              "ticks": ""
             }
            },
            "marker": {
             "colorbar": {
              "outlinewidth": 0,
              "ticks": ""
             }
            },
            "type": "scatter3d"
           }
          ],
          "scattercarpet": [
           {
            "marker": {
             "colorbar": {
              "outlinewidth": 0,
              "ticks": ""
             }
            },
            "type": "scattercarpet"
           }
          ],
          "scattergeo": [
           {
            "marker": {
             "colorbar": {
              "outlinewidth": 0,
              "ticks": ""
             }
            },
            "type": "scattergeo"
           }
          ],
          "scattergl": [
           {
            "marker": {
             "colorbar": {
              "outlinewidth": 0,
              "ticks": ""
             }
            },
            "type": "scattergl"
           }
          ],
          "scattermapbox": [
           {
            "marker": {
             "colorbar": {
              "outlinewidth": 0,
              "ticks": ""
             }
            },
            "type": "scattermapbox"
           }
          ],
          "scatterpolar": [
           {
            "marker": {
             "colorbar": {
              "outlinewidth": 0,
              "ticks": ""
             }
            },
            "type": "scatterpolar"
           }
          ],
          "scatterpolargl": [
           {
            "marker": {
             "colorbar": {
              "outlinewidth": 0,
              "ticks": ""
             }
            },
            "type": "scatterpolargl"
           }
          ],
          "scatterternary": [
           {
            "marker": {
             "colorbar": {
              "outlinewidth": 0,
              "ticks": ""
             }
            },
            "type": "scatterternary"
           }
          ],
          "surface": [
           {
            "colorbar": {
             "outlinewidth": 0,
             "ticks": ""
            },
            "colorscale": [
             [
              0,
              "#0d0887"
             ],
             [
              0.1111111111111111,
              "#46039f"
             ],
             [
              0.2222222222222222,
              "#7201a8"
             ],
             [
              0.3333333333333333,
              "#9c179e"
             ],
             [
              0.4444444444444444,
              "#bd3786"
             ],
             [
              0.5555555555555556,
              "#d8576b"
             ],
             [
              0.6666666666666666,
              "#ed7953"
             ],
             [
              0.7777777777777778,
              "#fb9f3a"
             ],
             [
              0.8888888888888888,
              "#fdca26"
             ],
             [
              1,
              "#f0f921"
             ]
            ],
            "type": "surface"
           }
          ],
          "table": [
           {
            "cells": {
             "fill": {
              "color": "#EBF0F8"
             },
             "line": {
              "color": "white"
             }
            },
            "header": {
             "fill": {
              "color": "#C8D4E3"
             },
             "line": {
              "color": "white"
             }
            },
            "type": "table"
           }
          ]
         },
         "layout": {
          "annotationdefaults": {
           "arrowcolor": "#2a3f5f",
           "arrowhead": 0,
           "arrowwidth": 1
          },
          "autotypenumbers": "strict",
          "coloraxis": {
           "colorbar": {
            "outlinewidth": 0,
            "ticks": ""
           }
          },
          "colorscale": {
           "diverging": [
            [
             0,
             "#8e0152"
            ],
            [
             0.1,
             "#c51b7d"
            ],
            [
             0.2,
             "#de77ae"
            ],
            [
             0.3,
             "#f1b6da"
            ],
            [
             0.4,
             "#fde0ef"
            ],
            [
             0.5,
             "#f7f7f7"
            ],
            [
             0.6,
             "#e6f5d0"
            ],
            [
             0.7,
             "#b8e186"
            ],
            [
             0.8,
             "#7fbc41"
            ],
            [
             0.9,
             "#4d9221"
            ],
            [
             1,
             "#276419"
            ]
           ],
           "sequential": [
            [
             0,
             "#0d0887"
            ],
            [
             0.1111111111111111,
             "#46039f"
            ],
            [
             0.2222222222222222,
             "#7201a8"
            ],
            [
             0.3333333333333333,
             "#9c179e"
            ],
            [
             0.4444444444444444,
             "#bd3786"
            ],
            [
             0.5555555555555556,
             "#d8576b"
            ],
            [
             0.6666666666666666,
             "#ed7953"
            ],
            [
             0.7777777777777778,
             "#fb9f3a"
            ],
            [
             0.8888888888888888,
             "#fdca26"
            ],
            [
             1,
             "#f0f921"
            ]
           ],
           "sequentialminus": [
            [
             0,
             "#0d0887"
            ],
            [
             0.1111111111111111,
             "#46039f"
            ],
            [
             0.2222222222222222,
             "#7201a8"
            ],
            [
             0.3333333333333333,
             "#9c179e"
            ],
            [
             0.4444444444444444,
             "#bd3786"
            ],
            [
             0.5555555555555556,
             "#d8576b"
            ],
            [
             0.6666666666666666,
             "#ed7953"
            ],
            [
             0.7777777777777778,
             "#fb9f3a"
            ],
            [
             0.8888888888888888,
             "#fdca26"
            ],
            [
             1,
             "#f0f921"
            ]
           ]
          },
          "colorway": [
           "#636efa",
           "#EF553B",
           "#00cc96",
           "#ab63fa",
           "#FFA15A",
           "#19d3f3",
           "#FF6692",
           "#B6E880",
           "#FF97FF",
           "#FECB52"
          ],
          "font": {
           "color": "#2a3f5f"
          },
          "geo": {
           "bgcolor": "white",
           "lakecolor": "white",
           "landcolor": "#E5ECF6",
           "showlakes": true,
           "showland": true,
           "subunitcolor": "white"
          },
          "hoverlabel": {
           "align": "left"
          },
          "hovermode": "closest",
          "mapbox": {
           "style": "light"
          },
          "paper_bgcolor": "white",
          "plot_bgcolor": "#E5ECF6",
          "polar": {
           "angularaxis": {
            "gridcolor": "white",
            "linecolor": "white",
            "ticks": ""
           },
           "bgcolor": "#E5ECF6",
           "radialaxis": {
            "gridcolor": "white",
            "linecolor": "white",
            "ticks": ""
           }
          },
          "scene": {
           "xaxis": {
            "backgroundcolor": "#E5ECF6",
            "gridcolor": "white",
            "gridwidth": 2,
            "linecolor": "white",
            "showbackground": true,
            "ticks": "",
            "zerolinecolor": "white"
           },
           "yaxis": {
            "backgroundcolor": "#E5ECF6",
            "gridcolor": "white",
            "gridwidth": 2,
            "linecolor": "white",
            "showbackground": true,
            "ticks": "",
            "zerolinecolor": "white"
           },
           "zaxis": {
            "backgroundcolor": "#E5ECF6",
            "gridcolor": "white",
            "gridwidth": 2,
            "linecolor": "white",
            "showbackground": true,
            "ticks": "",
            "zerolinecolor": "white"
           }
          },
          "shapedefaults": {
           "line": {
            "color": "#2a3f5f"
           }
          },
          "ternary": {
           "aaxis": {
            "gridcolor": "white",
            "linecolor": "white",
            "ticks": ""
           },
           "baxis": {
            "gridcolor": "white",
            "linecolor": "white",
            "ticks": ""
           },
           "bgcolor": "#E5ECF6",
           "caxis": {
            "gridcolor": "white",
            "linecolor": "white",
            "ticks": ""
           }
          },
          "title": {
           "x": 0.05
          },
          "xaxis": {
           "automargin": true,
           "gridcolor": "white",
           "linecolor": "white",
           "ticks": "",
           "title": {
            "standoff": 15
           },
           "zerolinecolor": "white",
           "zerolinewidth": 2
          },
          "yaxis": {
           "automargin": true,
           "gridcolor": "white",
           "linecolor": "white",
           "ticks": "",
           "title": {
            "standoff": 15
           },
           "zerolinecolor": "white",
           "zerolinewidth": 2
          }
         }
        },
        "title": {
         "text": "Parallel Coordinate Plot"
        }
       }
      }
     },
     "metadata": {},
     "output_type": "display_data"
    }
   ],
   "source": [
    "# Generate and display visualizations\n",
    "visualizations = [\n",
    "    optuna.visualization.plot_optimization_history,\n",
    "    optuna.visualization.plot_parallel_coordinate,\n",
    "    # optuna.visualization.plot_slice,\n",
    "    # optuna.visualization.plot_contour\n",
    "]\n",
    "\n",
    "for viz in visualizations:\n",
    "    viz(study_rf).show()"
   ]
  },
  {
   "cell_type": "markdown",
   "metadata": {},
   "source": [
    "Se observa que desde estadios de optimización muy tempranos se alcanza el valor objetivo mácximo, si bien es cierto que existen pruebas como la 2, 7, y 9 que dan valores significativamente menores. En gráfico de parallel coordinates permite explorar la relación entre múltiples hiperparámetros y su impacto en la métrica de rendimiento objetivo (como el F1-score). Cada línea del gráfico representa un ensayo (o prueba) realizado durante la optimización, mostrando cómo diferentes combinaciones de hiperparámetros afectan el rendimiento del modelo. Se puede observar como los ensayos en los que se logra un mayor valor objetivo de f1score, la utilización de boostrapping es irrelevante ya que desde los dos valores el ensayo logra el mismo valor, sin embargo hay multiples ensayos que salen de la parte `balanced` de los `class:weight` auqneu existe otro que parte del `balanced_subsamples` siendo menor el número de ensayos que o consideran el peso. Por otro lado valores inferioes de `max_depth` conducen a resultados mejores que los valores dle rango alto de valores. Dichos salen a su ves de la estategia sqrt de las `max_feartures` con valores rondando los 2000 estimadores por la complejidad del texto. \n",
    "\n",
    "Se procede a guardar los resultados de la optimización para su inspección posterior y su utilización en futuras estrategias de optimización de hiperparámetros. Aunque no se ha guardado el histórico de todos ellos, se han empleado para ver cuales son las mejores estrategias."
   ]
  },
  {
   "cell_type": "code",
   "execution_count": 12,
   "metadata": {},
   "outputs": [
    {
     "data": {
      "text/plain": [
       "['/Users/borja/Documents/Somniumrema/projects/ml/class_trans/models/rf_study.pkl']"
      ]
     },
     "execution_count": 12,
     "metadata": {},
     "output_type": "execute_result"
    }
   ],
   "source": [
    "# Save the Optuna study\n",
    "joblib.dump(study_rf, MODELS_DIR / 'rf_study.pkl')"
   ]
  },
  {
   "cell_type": "markdown",
   "metadata": {},
   "source": [
    "Se entrena el modelo con los hiperparametros en el dataset balanceado utilizando SMOTE y se guarda el mismo"
   ]
  },
  {
   "cell_type": "code",
   "execution_count": 13,
   "metadata": {},
   "outputs": [
    {
     "data": {
      "text/plain": [
       "['/Users/borja/Documents/Somniumrema/projects/ml/class_trans/models/rf_model.pkl']"
      ]
     },
     "execution_count": 13,
     "metadata": {},
     "output_type": "execute_result"
    }
   ],
   "source": [
    "# Train the final model with the best hyperparameters and save the trained model pipeline\n",
    "joblib.dump(\n",
    "    ImbPipeline([\n",
    "        ('smoteenn', SMOTE(sampling_strategy='minority')),\n",
    "        ('classifier', RandomForestClassifier(**study_rf.best_params))\n",
    "    ]).fit(X_train_embeddings, y_train),\n",
    "    MODELS_DIR / 'rf_model.pkl'\n",
    ")"
   ]
  },
  {
   "cell_type": "markdown",
   "metadata": {},
   "source": [
    "Se carga el modelo para realizar las predicciones sobre el mismo."
   ]
  },
  {
   "cell_type": "code",
   "execution_count": 9,
   "metadata": {},
   "outputs": [],
   "source": [
    "# Load the trained model pipeline and predict on validation set\n",
    "val_predictions_rf = joblib.load(MODELS_DIR / 'rf_model.pkl').predict_proba(X_val_embeddings)"
   ]
  },
  {
   "cell_type": "markdown",
   "metadata": {},
   "source": [
    "Se define un umbral de clasificación específico para el modelo con el fin de optimizar el f1 score. Valores de 0.4 equilibran los falsos positivos y negativos siendo en número exáctamente iguales. En este caso se opta por un valor menor con el fin de reducir los falsos negativos ya que es la clase minoritaria y de dificil clasificación."
   ]
  },
  {
   "cell_type": "code",
   "execution_count": null,
   "metadata": {},
   "outputs": [],
   "source": [
    "# Define a custom threshold\n",
    "threshold = 0.3\n",
    "\n",
    "# Apply the custom threshold to convert probabilities to class labels\n",
    "val_predictions_thresholded = (val_predictions_rf >= threshold).astype(int)\n",
    "\n",
    "# Determine the final class label based on the highest probability\n",
    "val_predictions_labels = np.argmax(val_predictions_thresholded, axis=1)"
   ]
  },
  {
   "cell_type": "markdown",
   "metadata": {},
   "source": [
    "Si bien el rendimiento es bueno para la clase mayoritaria con un F1-score de 0.82 y un recall de 0.73, el modelo tiene dificultades para identificar correctamente la clase minoritaria con un F1-score de 0.49 y un recall de solo 0.73. Esto sugiere que, aunque el modelo logra una precisión general alta del 83%, su capacidad para manejar el desbalance de clases es limitada."
   ]
  },
  {
   "cell_type": "code",
   "execution_count": 46,
   "metadata": {},
   "outputs": [
    {
     "name": "stdout",
     "output_type": "stream",
     "text": [
      "              precision    recall  f1-score   support\n",
      "\n",
      "           0       0.37      0.73      0.49       161\n",
      "           1       0.93      0.73      0.82       739\n",
      "\n",
      "    accuracy                           0.73       900\n",
      "   macro avg       0.65      0.73      0.66       900\n",
      "weighted avg       0.83      0.73      0.76       900\n",
      "\n"
     ]
    }
   ],
   "source": [
    "# Print the classification report\n",
    "print(classification_report(y_val, val_predictions_labels))"
   ]
  },
  {
   "cell_type": "code",
   "execution_count": 48,
   "metadata": {},
   "outputs": [
    {
     "data": {
      "image/png": "[encoded data removed]",
      "text/plain": [
       "<Figure size 800x600 with 2 Axes>"
      ]
     },
     "metadata": {},
     "output_type": "display_data"
    }
   ],
   "source": [
    "# Calculate and plot the confusion matrix\n",
    "conf_matrix = confusion_matrix(y_val, val_predictions_labels)\n",
    "plot_confusion_matrix(conf_matrix)"
   ]
  },
  {
   "cell_type": "markdown",
   "metadata": {},
   "source": [
    "Como se ha visto anteriormente el modelo tiene un buen rendimiento en la predicción de la clase mayoritaria, pero comete más errores que en la clase minoritaria, como se puede observar por el mayor número de falsos positivos que negtivos."
   ]
  },
  {
   "cell_type": "markdown",
   "metadata": {},
   "source": [
    "Al igual que se ha realizado con el modelo de random forest se ajustan los hiperparametros del modelo XGBoost."
   ]
  },
  {
   "cell_type": "code",
   "execution_count": 15,
   "metadata": {},
   "outputs": [],
   "source": [
    "def objective_xgb(trial):\n",
    "    param = {\n",
    "        'n_estimators': trial.suggest_int('n_estimators', 100, 3000),\n",
    "        'max_depth': trial.suggest_int('max_depth', 3, 30),\n",
    "        'learning_rate': trial.suggest_float('learning_rate', 0.01, 0.1),\n",
    "        'gamma': trial.suggest_float('gamma', 0, 5),\n",
    "        'reg_alpha': trial.suggest_float('reg_alpha', 0, 5),\n",
    "        'reg_lambda': trial.suggest_float('reg_lambda', 0, 5),\n",
    "        'random_state': 42 \n",
    "    }\n",
    "    pipeline = ImbPipeline([\n",
    "        ('smoteenn', SMOTE(sampling_strategy='minority')),\n",
    "        ('classifier', xgb.XGBClassifier(**param))\n",
    "    ])\n",
    "    cv_scores = cross_val_score(pipeline, X_train_embeddings, y_train, cv=cv, scoring=f1_scorer, n_jobs=-1)\n",
    "    return cv_scores.mean()"
   ]
  },
  {
   "cell_type": "markdown",
   "metadata": {},
   "source": [
    "Se define el proceso de optimización de hiperparámetros para el XGBoost ooptimizandose los siguientes parámetros: \n",
    "\n",
    "- `n_estimators`: Número de árboles en el modelo XGBoost, variando entre 100 y 3000.\n",
    "- `max_depth`: Profundidad máxima de cada árbol, con valores entre 3 y 30, que controla la capacidad del modelo para capturar relaciones complejas.\n",
    "- `learning_rate`: Tasa de aprendizaje, que se ajusta entre 0.01 y 0.1, afectando la velocidad con la que el modelo ajusta los errores.\n",
    "- `gamma`: Control de la complejidad de los árboles, regulando las divisiones en los nodos según su reducción en la pérdida.\n",
    "- `reg_alpha` y `reg_lambda`: Parámetros de regularización L1 y L2, que ayudan a reducir el sobreajuste penalizando pesos elevados.\n",
    "\n",
    "Se incluye la técnica SMOTE para equilibrar la clase minoritaria durante el entrenamiento y se evalúa mediante validación cruzada usando el F1-score."
   ]
  },
  {
   "cell_type": "code",
   "execution_count": 16,
   "metadata": {},
   "outputs": [
    {
     "name": "stderr",
     "output_type": "stream",
     "text": [
      "[I 2024-09-10 10:35:16,284] A new study created in memory with name: no-name-e58c3549-4420-40c4-81b5-ba0584cb18ce\n",
      "[I 2024-09-10 10:37:07,592] Trial 5 finished with value: 0.8992390606559303 and parameters: {'n_estimators': 577, 'max_depth': 20, 'learning_rate': 0.05701366943503992, 'gamma': 3.167284797444876, 'reg_alpha': 2.885886051383086, 'reg_lambda': 0.21388088576162312}. Best is trial 5 with value: 0.8992390606559303.\n",
      "[I 2024-09-10 10:41:41,480] Trial 6 finished with value: 0.904868005875173 and parameters: {'n_estimators': 462, 'max_depth': 11, 'learning_rate': 0.02582928064974142, 'gamma': 2.2444907505077754, 'reg_alpha': 3.4109167886133402, 'reg_lambda': 4.063947475103205}. Best is trial 6 with value: 0.904868005875173.\n",
      "[I 2024-09-10 10:43:29,384] Trial 0 finished with value: 0.9051798165674813 and parameters: {'n_estimators': 270, 'max_depth': 12, 'learning_rate': 0.04328716937399258, 'gamma': 1.2591253652674443, 'reg_alpha': 4.3144770606615, 'reg_lambda': 4.58342986600365}. Best is trial 0 with value: 0.9051798165674813.\n",
      "[I 2024-09-10 10:43:50,563] Trial 3 finished with value: 0.907135467912302 and parameters: {'n_estimators': 2798, 'max_depth': 21, 'learning_rate': 0.07078588069359125, 'gamma': 0.42722018536197004, 'reg_alpha': 0.6965629448025701, 'reg_lambda': 2.510740844415664}. Best is trial 3 with value: 0.907135467912302.\n",
      "[I 2024-09-10 10:45:37,805] Trial 7 finished with value: 0.9004304364425113 and parameters: {'n_estimators': 934, 'max_depth': 5, 'learning_rate': 0.015466632749873536, 'gamma': 1.716650819974364, 'reg_alpha': 2.0280875040634543, 'reg_lambda': 2.6209531212766994}. Best is trial 3 with value: 0.907135467912302.\n",
      "[I 2024-09-10 10:51:08,876] Trial 2 finished with value: 0.8961784422943315 and parameters: {'n_estimators': 1912, 'max_depth': 4, 'learning_rate': 0.02617380937123686, 'gamma': 1.998395177216143, 'reg_alpha': 4.10490620901676, 'reg_lambda': 0.09247221296308283}. Best is trial 3 with value: 0.907135467912302.\n",
      "/Users/borja/Library/Caches/pypoetry/virtualenvs/class-trans-piHGrwZJ-py3.11/lib/python3.11/site-packages/joblib/externals/loky/process_executor.py:752: UserWarning:\n",
      "\n",
      "A worker stopped while some jobs were given to the executor. This can be caused by a too short worker timeout or by a memory leak.\n",
      "\n",
      "[I 2024-09-10 10:52:08,010] Trial 1 finished with value: 0.9039940345170201 and parameters: {'n_estimators': 2683, 'max_depth': 27, 'learning_rate': 0.06951639859081646, 'gamma': 1.0990958206300783, 'reg_alpha': 3.53230308699781, 'reg_lambda': 1.7093545897968043}. Best is trial 3 with value: 0.907135467912302.\n",
      "[I 2024-09-10 10:52:30,731] Trial 8 finished with value: 0.8964148871820499 and parameters: {'n_estimators': 525, 'max_depth': 5, 'learning_rate': 0.04828792404931151, 'gamma': 3.5894263588912745, 'reg_alpha': 2.533410579256736, 'reg_lambda': 4.566876664217344}. Best is trial 3 with value: 0.907135467912302.\n",
      "[I 2024-09-10 10:54:33,534] Trial 9 finished with value: 0.9016540636523447 and parameters: {'n_estimators': 1050, 'max_depth': 17, 'learning_rate': 0.03467245322345942, 'gamma': 1.514162938066002, 'reg_alpha': 1.7107016874548675, 'reg_lambda': 0.06644772289988665}. Best is trial 3 with value: 0.907135467912302.\n",
      "[I 2024-09-10 10:55:30,175] Trial 4 finished with value: 0.9071002539054177 and parameters: {'n_estimators': 1840, 'max_depth': 24, 'learning_rate': 0.011310705816211257, 'gamma': 0.5967912255043528, 'reg_alpha': 0.319652416527878, 'reg_lambda': 4.896821464725031}. Best is trial 3 with value: 0.907135467912302.\n"
     ]
    },
    {
     "name": "stdout",
     "output_type": "stream",
     "text": [
      "XGBoost: Hyperparameters: {'n_estimators': 2798, 'max_depth': 21, 'learning_rate': 0.07078588069359125, 'gamma': 0.42722018536197004, 'reg_alpha': 0.6965629448025701, 'reg_lambda': 2.510740844415664}\n",
      "XGBoost: Scores: 0.907135467912302\n"
     ]
    }
   ],
   "source": [
    "# Create a study object, optimize the objective function, and print the best hyperparameters and score\n",
    "study_xgb = optuna.create_study(direction='maximize')\n",
    "study_xgb.optimize(objective_xgb, n_trials=10, n_jobs=-1)\n",
    "\n",
    "print(f'XGBoost: Hyperparameters: {study_xgb.best_params}\\nXGBoost: Scores: {study_xgb.best_value}')"
   ]
  },
  {
   "cell_type": "markdown",
   "metadata": {},
   "source": [
    "Los mejores hiperparámetros incluyen un alto número de árboles (2798) y una profundidad máxima de 21, lo que permite que el modelo capture relaciones complejas en los datos. La tasa de aprendizaje es moderadamente alta comparada con una red neuronal, lo que permite una actualización gradual de los pesos. El parámetro gamma (0.43) evita divisiones innecesarias y reduciendo la complejidad del modelo. Los valores de regularización L1 (0.70) y L2 (2.51) ayudan a prevenir el sobreajuste al penalizar pesos elevados en los árboles.\n",
    "\n",
    "Este conjunto de hiperparámetros obtuvo un F1-score de 0.907. Se serializan los reusltados obtendos del estudio de optimización de hiperparámetros."
   ]
  },
  {
   "cell_type": "code",
   "execution_count": 17,
   "metadata": {},
   "outputs": [
    {
     "data": {
      "text/plain": [
       "['/Users/borja/Documents/Somniumrema/projects/ml/class_trans/models/xgb_study.pkl']"
      ]
     },
     "execution_count": 17,
     "metadata": {},
     "output_type": "execute_result"
    }
   ],
   "source": [
    "# Save the Optuna study\n",
    "joblib.dump(study_xgb, MODELS_DIR / 'xgb_study.pkl')"
   ]
  },
  {
   "cell_type": "markdown",
   "metadata": {},
   "source": [
    "Al igual que en el caso de Random forest se visualiza al evolución del entrenamiento"
   ]
  },
  {
   "cell_type": "code",
   "execution_count": 18,
   "metadata": {},
   "outputs": [
    {
     "data": {
      "application/vnd.plotly.v1+json": {
       "config": {
        "plotlyServerURL": "https://plot.ly"
       },
       "data": [
        {
         "mode": "markers",
         "name": "Objective Value",
         "type": "scatter",
         "x": [
          0,
          1,
          2,
          3,
          4,
          5,
          6,
          7,
          8,
          9
         ],
         "y": [
          0.9051798165674813,
          0.9039940345170201,
          0.8961784422943315,
          0.907135467912302,
          0.9071002539054177,
          0.8992390606559303,
          0.904868005875173,
          0.9004304364425113,
          0.8964148871820499,
          0.9016540636523447
         ]
        },
        {
         "mode": "lines",
         "name": "Best Value",
         "type": "scatter",
         "x": [
          0,
          1,
          2,
          3,
          4,
          5,
          6,
          7,
          8,
          9
         ],
         "y": [
          0.9051798165674813,
          0.9051798165674813,
          0.9051798165674813,
          0.907135467912302,
          0.907135467912302,
          0.907135467912302,
          0.907135467912302,
          0.907135467912302,
          0.907135467912302,
          0.907135467912302
         ]
        },
        {
         "marker": {
          "color": "#cccccc"
         },
         "mode": "markers",
         "name": "Infeasible Trial",
         "showlegend": false,
         "type": "scatter",
         "x": [],
         "y": []
        }
       ],
       "layout": {
        "template": {
         "data": {
          "bar": [
           {
            "error_x": {
             "color": "#2a3f5f"
            },
            "error_y": {
             "color": "#2a3f5f"
            },
            "marker": {
             "line": {
              "color": "#E5ECF6",
              "width": 0.5
             },
             "pattern": {
              "fillmode": "overlay",
              "size": 10,
              "solidity": 0.2
             }
            },
            "type": "bar"
           }
          ],
          "barpolar": [
           {
            "marker": {
             "line": {
              "color": "#E5ECF6",
              "width": 0.5
             },
             "pattern": {
              "fillmode": "overlay",
              "size": 10,
              "solidity": 0.2
             }
            },
            "type": "barpolar"
           }
          ],
          "carpet": [
           {
            "aaxis": {
             "endlinecolor": "#2a3f5f",
             "gridcolor": "white",
             "linecolor": "white",
             "minorgridcolor": "white",
             "startlinecolor": "#2a3f5f"
            },
            "baxis": {
             "endlinecolor": "#2a3f5f",
             "gridcolor": "white",
             "linecolor": "white",
             "minorgridcolor": "white",
             "startlinecolor": "#2a3f5f"
            },
            "type": "carpet"
           }
          ],
          "choropleth": [
           {
            "colorbar": {
             "outlinewidth": 0,
             "ticks": ""
            },
            "type": "choropleth"
           }
          ],
          "contour": [
           {
            "colorbar": {
             "outlinewidth": 0,
             "ticks": ""
            },
            "colorscale": [
             [
              0,
              "#0d0887"
             ],
             [
              0.1111111111111111,
              "#46039f"
             ],
             [
              0.2222222222222222,
              "#7201a8"
             ],
             [
              0.3333333333333333,
              "#9c179e"
             ],
             [
              0.4444444444444444,
              "#bd3786"
             ],
             [
              0.5555555555555556,
              "#d8576b"
             ],
             [
              0.6666666666666666,
              "#ed7953"
             ],
             [
              0.7777777777777778,
              "#fb9f3a"
             ],
             [
              0.8888888888888888,
              "#fdca26"
             ],
             [
              1,
              "#f0f921"
             ]
            ],
            "type": "contour"
           }
          ],
          "contourcarpet": [
           {
            "colorbar": {
             "outlinewidth": 0,
             "ticks": ""
            },
            "type": "contourcarpet"
           }
          ],
          "heatmap": [
           {
            "colorbar": {
             "outlinewidth": 0,
             "ticks": ""
            },
            "colorscale": [
             [
              0,
              "#0d0887"
             ],
             [
              0.1111111111111111,
              "#46039f"
             ],
             [
              0.2222222222222222,
              "#7201a8"
             ],
             [
              0.3333333333333333,
              "#9c179e"
             ],
             [
              0.4444444444444444,
              "#bd3786"
             ],
             [
              0.5555555555555556,
              "#d8576b"
             ],
             [
              0.6666666666666666,
              "#ed7953"
             ],
             [
              0.7777777777777778,
              "#fb9f3a"
             ],
             [
              0.8888888888888888,
              "#fdca26"
             ],
             [
              1,
              "#f0f921"
             ]
            ],
            "type": "heatmap"
           }
          ],
          "heatmapgl": [
           {
            "colorbar": {
             "outlinewidth": 0,
             "ticks": ""
            },
            "colorscale": [
             [
              0,
              "#0d0887"
             ],
             [
              0.1111111111111111,
              "#46039f"
             ],
             [
              0.2222222222222222,
              "#7201a8"
             ],
             [
              0.3333333333333333,
              "#9c179e"
             ],
             [
              0.4444444444444444,
              "#bd3786"
             ],
             [
              0.5555555555555556,
              "#d8576b"
             ],
             [
              0.6666666666666666,
              "#ed7953"
             ],
             [
              0.7777777777777778,
              "#fb9f3a"
             ],
             [
              0.8888888888888888,
              "#fdca26"
             ],
             [
              1,
              "#f0f921"
             ]
            ],
            "type": "heatmapgl"
           }
          ],
          "histogram": [
           {
            "marker": {
             "pattern": {
              "fillmode": "overlay",
              "size": 10,
              "solidity": 0.2
             }
            },
            "type": "histogram"
           }
          ],
          "histogram2d": [
           {
            "colorbar": {
             "outlinewidth": 0,
             "ticks": ""
            },
            "colorscale": [
             [
              0,
              "#0d0887"
             ],
             [
              0.1111111111111111,
              "#46039f"
             ],
             [
              0.2222222222222222,
              "#7201a8"
             ],
             [
              0.3333333333333333,
              "#9c179e"
             ],
             [
              0.4444444444444444,
              "#bd3786"
             ],
             [
              0.5555555555555556,
              "#d8576b"
             ],
             [
              0.6666666666666666,
              "#ed7953"
             ],
             [
              0.7777777777777778,
              "#fb9f3a"
             ],
             [
              0.8888888888888888,
              "#fdca26"
             ],
             [
              1,
              "#f0f921"
             ]
            ],
            "type": "histogram2d"
           }
          ],
          "histogram2dcontour": [
           {
            "colorbar": {
             "outlinewidth": 0,
             "ticks": ""
            },
            "colorscale": [
             [
              0,
              "#0d0887"
             ],
             [
              0.1111111111111111,
              "#46039f"
             ],
             [
              0.2222222222222222,
              "#7201a8"
             ],
             [
              0.3333333333333333,
              "#9c179e"
             ],
             [
              0.4444444444444444,
              "#bd3786"
             ],
             [
              0.5555555555555556,
              "#d8576b"
             ],
             [
              0.6666666666666666,
              "#ed7953"
             ],
             [
              0.7777777777777778,
              "#fb9f3a"
             ],
             [
              0.8888888888888888,
              "#fdca26"
             ],
             [
              1,
              "#f0f921"
             ]
            ],
            "type": "histogram2dcontour"
           }
          ],
          "mesh3d": [
           {
            "colorbar": {
             "outlinewidth": 0,
             "ticks": ""
            },
            "type": "mesh3d"
           }
          ],
          "parcoords": [
           {
            "line": {
             "colorbar": {
              "outlinewidth": 0,
              "ticks": ""
             }
            },
            "type": "parcoords"
           }
          ],
          "pie": [
           {
            "automargin": true,
            "type": "pie"
           }
          ],
          "scatter": [
           {
            "fillpattern": {
             "fillmode": "overlay",
             "size": 10,
             "solidity": 0.2
            },
            "type": "scatter"
           }
          ],
          "scatter3d": [
           {
            "line": {
             "colorbar": {
              "outlinewidth": 0,
              "ticks": ""
             }
            },
            "marker": {
             "colorbar": {
              "outlinewidth": 0,
              "ticks": ""
             }
            },
            "type": "scatter3d"
           }
          ],
          "scattercarpet": [
           {
            "marker": {
             "colorbar": {
              "outlinewidth": 0,
              "ticks": ""
             }
            },
            "type": "scattercarpet"
           }
          ],
          "scattergeo": [
           {
            "marker": {
             "colorbar": {
              "outlinewidth": 0,
              "ticks": ""
             }
            },
            "type": "scattergeo"
           }
          ],
          "scattergl": [
           {
            "marker": {
             "colorbar": {
              "outlinewidth": 0,
              "ticks": ""
             }
            },
            "type": "scattergl"
           }
          ],
          "scattermapbox": [
           {
            "marker": {
             "colorbar": {
              "outlinewidth": 0,
              "ticks": ""
             }
            },
            "type": "scattermapbox"
           }
          ],
          "scatterpolar": [
           {
            "marker": {
             "colorbar": {
              "outlinewidth": 0,
              "ticks": ""
             }
            },
            "type": "scatterpolar"
           }
          ],
          "scatterpolargl": [
           {
            "marker": {
             "colorbar": {
              "outlinewidth": 0,
              "ticks": ""
             }
            },
            "type": "scatterpolargl"
           }
          ],
          "scatterternary": [
           {
            "marker": {
             "colorbar": {
              "outlinewidth": 0,
              "ticks": ""
             }
            },
            "type": "scatterternary"
           }
          ],
          "surface": [
           {
            "colorbar": {
             "outlinewidth": 0,
             "ticks": ""
            },
            "colorscale": [
             [
              0,
              "#0d0887"
             ],
             [
              0.1111111111111111,
              "#46039f"
             ],
             [
              0.2222222222222222,
              "#7201a8"
             ],
             [
              0.3333333333333333,
              "#9c179e"
             ],
             [
              0.4444444444444444,
              "#bd3786"
             ],
             [
              0.5555555555555556,
              "#d8576b"
             ],
             [
              0.6666666666666666,
              "#ed7953"
             ],
             [
              0.7777777777777778,
              "#fb9f3a"
             ],
             [
              0.8888888888888888,
              "#fdca26"
             ],
             [
              1,
              "#f0f921"
             ]
            ],
            "type": "surface"
           }
          ],
          "table": [
           {
            "cells": {
             "fill": {
              "color": "#EBF0F8"
             },
             "line": {
              "color": "white"
             }
            },
            "header": {
             "fill": {
              "color": "#C8D4E3"
             },
             "line": {
              "color": "white"
             }
            },
            "type": "table"
           }
          ]
         },
         "layout": {
          "annotationdefaults": {
           "arrowcolor": "#2a3f5f",
           "arrowhead": 0,
           "arrowwidth": 1
          },
          "autotypenumbers": "strict",
          "coloraxis": {
           "colorbar": {
            "outlinewidth": 0,
            "ticks": ""
           }
          },
          "colorscale": {
           "diverging": [
            [
             0,
             "#8e0152"
            ],
            [
             0.1,
             "#c51b7d"
            ],
            [
             0.2,
             "#de77ae"
            ],
            [
             0.3,
             "#f1b6da"
            ],
            [
             0.4,
             "#fde0ef"
            ],
            [
             0.5,
             "#f7f7f7"
            ],
            [
             0.6,
             "#e6f5d0"
            ],
            [
             0.7,
             "#b8e186"
            ],
            [
             0.8,
             "#7fbc41"
            ],
            [
             0.9,
             "#4d9221"
            ],
            [
             1,
             "#276419"
            ]
           ],
           "sequential": [
            [
             0,
             "#0d0887"
            ],
            [
             0.1111111111111111,
             "#46039f"
            ],
            [
             0.2222222222222222,
             "#7201a8"
            ],
            [
             0.3333333333333333,
             "#9c179e"
            ],
            [
             0.4444444444444444,
             "#bd3786"
            ],
            [
             0.5555555555555556,
             "#d8576b"
            ],
            [
             0.6666666666666666,
             "#ed7953"
            ],
            [
             0.7777777777777778,
             "#fb9f3a"
            ],
            [
             0.8888888888888888,
             "#fdca26"
            ],
            [
             1,
             "#f0f921"
            ]
           ],
           "sequentialminus": [
            [
             0,
             "#0d0887"
            ],
            [
             0.1111111111111111,
             "#46039f"
            ],
            [
             0.2222222222222222,
             "#7201a8"
            ],
            [
             0.3333333333333333,
             "#9c179e"
            ],
            [
             0.4444444444444444,
             "#bd3786"
            ],
            [
             0.5555555555555556,
             "#d8576b"
            ],
            [
             0.6666666666666666,
             "#ed7953"
            ],
            [
             0.7777777777777778,
             "#fb9f3a"
            ],
            [
             0.8888888888888888,
             "#fdca26"
            ],
            [
             1,
             "#f0f921"
            ]
           ]
          },
          "colorway": [
           "#636efa",
           "#EF553B",
           "#00cc96",
           "#ab63fa",
           "#FFA15A",
           "#19d3f3",
           "#FF6692",
           "#B6E880",
           "#FF97FF",
           "#FECB52"
          ],
          "font": {
           "color": "#2a3f5f"
          },
          "geo": {
           "bgcolor": "white",
           "lakecolor": "white",
           "landcolor": "#E5ECF6",
           "showlakes": true,
           "showland": true,
           "subunitcolor": "white"
          },
          "hoverlabel": {
           "align": "left"
          },
          "hovermode": "closest",
          "mapbox": {
           "style": "light"
          },
          "paper_bgcolor": "white",
          "plot_bgcolor": "#E5ECF6",
          "polar": {
           "angularaxis": {
            "gridcolor": "white",
            "linecolor": "white",
            "ticks": ""
           },
           "bgcolor": "#E5ECF6",
           "radialaxis": {
            "gridcolor": "white",
            "linecolor": "white",
            "ticks": ""
           }
          },
          "scene": {
           "xaxis": {
            "backgroundcolor": "#E5ECF6",
            "gridcolor": "white",
            "gridwidth": 2,
            "linecolor": "white",
            "showbackground": true,
            "ticks": "",
            "zerolinecolor": "white"
           },
           "yaxis": {
            "backgroundcolor": "#E5ECF6",
            "gridcolor": "white",
            "gridwidth": 2,
            "linecolor": "white",
            "showbackground": true,
            "ticks": "",
            "zerolinecolor": "white"
           },
           "zaxis": {
            "backgroundcolor": "#E5ECF6",
            "gridcolor": "white",
            "gridwidth": 2,
            "linecolor": "white",
            "showbackground": true,
            "ticks": "",
            "zerolinecolor": "white"
           }
          },
          "shapedefaults": {
           "line": {
            "color": "#2a3f5f"
           }
          },
          "ternary": {
           "aaxis": {
            "gridcolor": "white",
            "linecolor": "white",
            "ticks": ""
           },
           "baxis": {
            "gridcolor": "white",
            "linecolor": "white",
            "ticks": ""
           },
           "bgcolor": "#E5ECF6",
           "caxis": {
            "gridcolor": "white",
            "linecolor": "white",
            "ticks": ""
           }
          },
          "title": {
           "x": 0.05
          },
          "xaxis": {
           "automargin": true,
           "gridcolor": "white",
           "linecolor": "white",
           "ticks": "",
           "title": {
            "standoff": 15
           },
           "zerolinecolor": "white",
           "zerolinewidth": 2
          },
          "yaxis": {
           "automargin": true,
           "gridcolor": "white",
           "linecolor": "white",
           "ticks": "",
           "title": {
            "standoff": 15
           },
           "zerolinecolor": "white",
           "zerolinewidth": 2
          }
         }
        },
        "title": {
         "text": "Optimization History Plot"
        },
        "xaxis": {
         "title": {
          "text": "Trial"
         }
        },
        "yaxis": {
         "title": {
          "text": "Objective Value"
         }
        }
       }
      }
     },
     "metadata": {},
     "output_type": "display_data"
    },
    {
     "data": {
      "application/vnd.plotly.v1+json": {
       "config": {
        "plotlyServerURL": "https://plot.ly"
       },
       "data": [
        {
         "dimensions": [
          {
           "label": "Objective Value",
           "range": [
            0.8961784422943315,
            0.907135467912302
           ],
           "values": [
            0.9051798165674813,
            0.9039940345170201,
            0.8961784422943315,
            0.907135467912302,
            0.9071002539054177,
            0.8992390606559303,
            0.904868005875173,
            0.9004304364425113,
            0.8964148871820499,
            0.9016540636523447
           ]
          },
          {
           "label": "gamma",
           "range": [
            0.42722018536197004,
            3.5894263588912745
           ],
           "values": [
            1.2591253652674443,
            1.0990958206300783,
            1.998395177216143,
            0.42722018536197004,
            0.5967912255043528,
            3.167284797444876,
            2.2444907505077754,
            1.716650819974364,
            3.5894263588912745,
            1.514162938066002
           ]
          },
          {
           "label": "learning_rate",
           "range": [
            0.011310705816211257,
            0.07078588069359125
           ],
           "values": [
            0.04328716937399258,
            0.06951639859081646,
            0.02617380937123686,
            0.07078588069359125,
            0.011310705816211257,
            0.05701366943503992,
            0.02582928064974142,
            0.015466632749873536,
            0.04828792404931151,
            0.03467245322345942
           ]
          },
          {
           "label": "max_depth",
           "range": [
            4,
            27
           ],
           "values": [
            12,
            27,
            4,
            21,
            24,
            20,
            11,
            5,
            5,
            17
           ]
          },
          {
           "label": "n_estimators",
           "range": [
            270,
            2798
           ],
           "values": [
            270,
            2683,
            1912,
            2798,
            1840,
            577,
            462,
            934,
            525,
            1050
           ]
          },
          {
           "label": "reg_alpha",
           "range": [
            0.319652416527878,
            4.3144770606615
           ],
           "values": [
            4.3144770606615,
            3.53230308699781,
            4.10490620901676,
            0.6965629448025701,
            0.319652416527878,
            2.885886051383086,
            3.4109167886133402,
            2.0280875040634543,
            2.533410579256736,
            1.7107016874548675
           ]
          },
          {
           "label": "reg_lambda",
           "range": [
            0.06644772289988665,
            4.896821464725031
           ],
           "values": [
            4.58342986600365,
            1.7093545897968043,
            0.09247221296308283,
            2.510740844415664,
            4.896821464725031,
            0.21388088576162312,
            4.063947475103205,
            2.6209531212766994,
            4.566876664217344,
            0.06644772289988665
           ]
          }
         ],
         "labelangle": 30,
         "labelside": "bottom",
         "line": {
          "color": [
           0.9051798165674813,
           0.9039940345170201,
           0.8961784422943315,
           0.907135467912302,
           0.9071002539054177,
           0.8992390606559303,
           0.904868005875173,
           0.9004304364425113,
           0.8964148871820499,
           0.9016540636523447
          ],
          "colorbar": {
           "title": {
            "text": "Objective Value"
           }
          },
          "colorscale": [
           [
            0,
            "rgb(247,251,255)"
           ],
           [
            0.125,
            "rgb(222,235,247)"
           ],
           [
            0.25,
            "rgb(198,219,239)"
           ],
           [
            0.375,
            "rgb(158,202,225)"
           ],
           [
            0.5,
            "rgb(107,174,214)"
           ],
           [
            0.625,
            "rgb(66,146,198)"
           ],
           [
            0.75,
            "rgb(33,113,181)"
           ],
           [
            0.875,
            "rgb(8,81,156)"
           ],
           [
            1,
            "rgb(8,48,107)"
           ]
          ],
          "reversescale": false,
          "showscale": true
         },
         "type": "parcoords"
        }
       ],
       "layout": {
        "template": {
         "data": {
          "bar": [
           {
            "error_x": {
             "color": "#2a3f5f"
            },
            "error_y": {
             "color": "#2a3f5f"
            },
            "marker": {
             "line": {
              "color": "#E5ECF6",
              "width": 0.5
             },
             "pattern": {
              "fillmode": "overlay",
              "size": 10,
              "solidity": 0.2
             }
            },
            "type": "bar"
           }
          ],
          "barpolar": [
           {
            "marker": {
             "line": {
              "color": "#E5ECF6",
              "width": 0.5
             },
             "pattern": {
              "fillmode": "overlay",
              "size": 10,
              "solidity": 0.2
             }
            },
            "type": "barpolar"
           }
          ],
          "carpet": [
           {
            "aaxis": {
             "endlinecolor": "#2a3f5f",
             "gridcolor": "white",
             "linecolor": "white",
             "minorgridcolor": "white",
             "startlinecolor": "#2a3f5f"
            },
            "baxis": {
             "endlinecolor": "#2a3f5f",
             "gridcolor": "white",
             "linecolor": "white",
             "minorgridcolor": "white",
             "startlinecolor": "#2a3f5f"
            },
            "type": "carpet"
           }
          ],
          "choropleth": [
           {
            "colorbar": {
             "outlinewidth": 0,
             "ticks": ""
            },
            "type": "choropleth"
           }
          ],
          "contour": [
           {
            "colorbar": {
             "outlinewidth": 0,
             "ticks": ""
            },
            "colorscale": [
             [
              0,
              "#0d0887"
             ],
             [
              0.1111111111111111,
              "#46039f"
             ],
             [
              0.2222222222222222,
              "#7201a8"
             ],
             [
              0.3333333333333333,
              "#9c179e"
             ],
             [
              0.4444444444444444,
              "#bd3786"
             ],
             [
              0.5555555555555556,
              "#d8576b"
             ],
             [
              0.6666666666666666,
              "#ed7953"
             ],
             [
              0.7777777777777778,
              "#fb9f3a"
             ],
             [
              0.8888888888888888,
              "#fdca26"
             ],
             [
              1,
              "#f0f921"
             ]
            ],
            "type": "contour"
           }
          ],
          "contourcarpet": [
           {
            "colorbar": {
             "outlinewidth": 0,
             "ticks": ""
            },
            "type": "contourcarpet"
           }
          ],
          "heatmap": [
           {
            "colorbar": {
             "outlinewidth": 0,
             "ticks": ""
            },
            "colorscale": [
             [
              0,
              "#0d0887"
             ],
             [
              0.1111111111111111,
              "#46039f"
             ],
             [
              0.2222222222222222,
              "#7201a8"
             ],
             [
              0.3333333333333333,
              "#9c179e"
             ],
             [
              0.4444444444444444,
              "#bd3786"
             ],
             [
              0.5555555555555556,
              "#d8576b"
             ],
             [
              0.6666666666666666,
              "#ed7953"
             ],
             [
              0.7777777777777778,
              "#fb9f3a"
             ],
             [
              0.8888888888888888,
              "#fdca26"
             ],
             [
              1,
              "#f0f921"
             ]
            ],
            "type": "heatmap"
           }
          ],
          "heatmapgl": [
           {
            "colorbar": {
             "outlinewidth": 0,
             "ticks": ""
            },
            "colorscale": [
             [
              0,
              "#0d0887"
             ],
             [
              0.1111111111111111,
              "#46039f"
             ],
             [
              0.2222222222222222,
              "#7201a8"
             ],
             [
              0.3333333333333333,
              "#9c179e"
             ],
             [
              0.4444444444444444,
              "#bd3786"
             ],
             [
              0.5555555555555556,
              "#d8576b"
             ],
             [
              0.6666666666666666,
              "#ed7953"
             ],
             [
              0.7777777777777778,
              "#fb9f3a"
             ],
             [
              0.8888888888888888,
              "#fdca26"
             ],
             [
              1,
              "#f0f921"
             ]
            ],
            "type": "heatmapgl"
           }
          ],
          "histogram": [
           {
            "marker": {
             "pattern": {
              "fillmode": "overlay",
              "size": 10,
              "solidity": 0.2
             }
            },
            "type": "histogram"
           }
          ],
          "histogram2d": [
           {
            "colorbar": {
             "outlinewidth": 0,
             "ticks": ""
            },
            "colorscale": [
             [
              0,
              "#0d0887"
             ],
             [
              0.1111111111111111,
              "#46039f"
             ],
             [
              0.2222222222222222,
              "#7201a8"
             ],
             [
              0.3333333333333333,
              "#9c179e"
             ],
             [
              0.4444444444444444,
              "#bd3786"
             ],
             [
              0.5555555555555556,
              "#d8576b"
             ],
             [
              0.6666666666666666,
              "#ed7953"
             ],
             [
              0.7777777777777778,
              "#fb9f3a"
             ],
             [
              0.8888888888888888,
              "#fdca26"
             ],
             [
              1,
              "#f0f921"
             ]
            ],
            "type": "histogram2d"
           }
          ],
          "histogram2dcontour": [
           {
            "colorbar": {
             "outlinewidth": 0,
             "ticks": ""
            },
            "colorscale": [
             [
              0,
              "#0d0887"
             ],
             [
              0.1111111111111111,
              "#46039f"
             ],
             [
              0.2222222222222222,
              "#7201a8"
             ],
             [
              0.3333333333333333,
              "#9c179e"
             ],
             [
              0.4444444444444444,
              "#bd3786"
             ],
             [
              0.5555555555555556,
              "#d8576b"
             ],
             [
              0.6666666666666666,
              "#ed7953"
             ],
             [
              0.7777777777777778,
              "#fb9f3a"
             ],
             [
              0.8888888888888888,
              "#fdca26"
             ],
             [
              1,
              "#f0f921"
             ]
            ],
            "type": "histogram2dcontour"
           }
          ],
          "mesh3d": [
           {
            "colorbar": {
             "outlinewidth": 0,
             "ticks": ""
            },
            "type": "mesh3d"
           }
          ],
          "parcoords": [
           {
            "line": {
             "colorbar": {
              "outlinewidth": 0,
              "ticks": ""
             }
            },
            "type": "parcoords"
           }
          ],
          "pie": [
           {
            "automargin": true,
            "type": "pie"
           }
          ],
          "scatter": [
           {
            "fillpattern": {
             "fillmode": "overlay",
             "size": 10,
             "solidity": 0.2
            },
            "type": "scatter"
           }
          ],
          "scatter3d": [
           {
            "line": {
             "colorbar": {
              "outlinewidth": 0,
              "ticks": ""
             }
            },
            "marker": {
             "colorbar": {
              "outlinewidth": 0,
              "ticks": ""
             }
            },
            "type": "scatter3d"
           }
          ],
          "scattercarpet": [
           {
            "marker": {
             "colorbar": {
              "outlinewidth": 0,
              "ticks": ""
             }
            },
            "type": "scattercarpet"
           }
          ],
          "scattergeo": [
           {
            "marker": {
             "colorbar": {
              "outlinewidth": 0,
              "ticks": ""
             }
            },
            "type": "scattergeo"
           }
          ],
          "scattergl": [
           {
            "marker": {
             "colorbar": {
              "outlinewidth": 0,
              "ticks": ""
             }
            },
            "type": "scattergl"
           }
          ],
          "scattermapbox": [
           {
            "marker": {
             "colorbar": {
              "outlinewidth": 0,
              "ticks": ""
             }
            },
            "type": "scattermapbox"
           }
          ],
          "scatterpolar": [
           {
            "marker": {
             "colorbar": {
              "outlinewidth": 0,
              "ticks": ""
             }
            },
            "type": "scatterpolar"
           }
          ],
          "scatterpolargl": [
           {
            "marker": {
             "colorbar": {
              "outlinewidth": 0,
              "ticks": ""
             }
            },
            "type": "scatterpolargl"
           }
          ],
          "scatterternary": [
           {
            "marker": {
             "colorbar": {
              "outlinewidth": 0,
              "ticks": ""
             }
            },
            "type": "scatterternary"
           }
          ],
          "surface": [
           {
            "colorbar": {
             "outlinewidth": 0,
             "ticks": ""
            },
            "colorscale": [
             [
              0,
              "#0d0887"
             ],
             [
              0.1111111111111111,
              "#46039f"
             ],
             [
              0.2222222222222222,
              "#7201a8"
             ],
             [
              0.3333333333333333,
              "#9c179e"
             ],
             [
              0.4444444444444444,
              "#bd3786"
             ],
             [
              0.5555555555555556,
              "#d8576b"
             ],
             [
              0.6666666666666666,
              "#ed7953"
             ],
             [
              0.7777777777777778,
              "#fb9f3a"
             ],
             [
              0.8888888888888888,
              "#fdca26"
             ],
             [
              1,
              "#f0f921"
             ]
            ],
            "type": "surface"
           }
          ],
          "table": [
           {
            "cells": {
             "fill": {
              "color": "#EBF0F8"
             },
             "line": {
              "color": "white"
             }
            },
            "header": {
             "fill": {
              "color": "#C8D4E3"
             },
             "line": {
              "color": "white"
             }
            },
            "type": "table"
           }
          ]
         },
         "layout": {
          "annotationdefaults": {
           "arrowcolor": "#2a3f5f",
           "arrowhead": 0,
           "arrowwidth": 1
          },
          "autotypenumbers": "strict",
          "coloraxis": {
           "colorbar": {
            "outlinewidth": 0,
            "ticks": ""
           }
          },
          "colorscale": {
           "diverging": [
            [
             0,
             "#8e0152"
            ],
            [
             0.1,
             "#c51b7d"
            ],
            [
             0.2,
             "#de77ae"
            ],
            [
             0.3,
             "#f1b6da"
            ],
            [
             0.4,
             "#fde0ef"
            ],
            [
             0.5,
             "#f7f7f7"
            ],
            [
             0.6,
             "#e6f5d0"
            ],
            [
             0.7,
             "#b8e186"
            ],
            [
             0.8,
             "#7fbc41"
            ],
            [
             0.9,
             "#4d9221"
            ],
            [
             1,
             "#276419"
            ]
           ],
           "sequential": [
            [
             0,
             "#0d0887"
            ],
            [
             0.1111111111111111,
             "#46039f"
            ],
            [
             0.2222222222222222,
             "#7201a8"
            ],
            [
             0.3333333333333333,
             "#9c179e"
            ],
            [
             0.4444444444444444,
             "#bd3786"
            ],
            [
             0.5555555555555556,
             "#d8576b"
            ],
            [
             0.6666666666666666,
             "#ed7953"
            ],
            [
             0.7777777777777778,
             "#fb9f3a"
            ],
            [
             0.8888888888888888,
             "#fdca26"
            ],
            [
             1,
             "#f0f921"
            ]
           ],
           "sequentialminus": [
            [
             0,
             "#0d0887"
            ],
            [
             0.1111111111111111,
             "#46039f"
            ],
            [
             0.2222222222222222,
             "#7201a8"
            ],
            [
             0.3333333333333333,
             "#9c179e"
            ],
            [
             0.4444444444444444,
             "#bd3786"
            ],
            [
             0.5555555555555556,
             "#d8576b"
            ],
            [
             0.6666666666666666,
             "#ed7953"
            ],
            [
             0.7777777777777778,
             "#fb9f3a"
            ],
            [
             0.8888888888888888,
             "#fdca26"
            ],
            [
             1,
             "#f0f921"
            ]
           ]
          },
          "colorway": [
           "#636efa",
           "#EF553B",
           "#00cc96",
           "#ab63fa",
           "#FFA15A",
           "#19d3f3",
           "#FF6692",
           "#B6E880",
           "#FF97FF",
           "#FECB52"
          ],
          "font": {
           "color": "#2a3f5f"
          },
          "geo": {
           "bgcolor": "white",
           "lakecolor": "white",
           "landcolor": "#E5ECF6",
           "showlakes": true,
           "showland": true,
           "subunitcolor": "white"
          },
          "hoverlabel": {
           "align": "left"
          },
          "hovermode": "closest",
          "mapbox": {
           "style": "light"
          },
          "paper_bgcolor": "white",
          "plot_bgcolor": "#E5ECF6",
          "polar": {
           "angularaxis": {
            "gridcolor": "white",
            "linecolor": "white",
            "ticks": ""
           },
           "bgcolor": "#E5ECF6",
           "radialaxis": {
            "gridcolor": "white",
            "linecolor": "white",
            "ticks": ""
           }
          },
          "scene": {
           "xaxis": {
            "backgroundcolor": "#E5ECF6",
            "gridcolor": "white",
            "gridwidth": 2,
            "linecolor": "white",
            "showbackground": true,
            "ticks": "",
            "zerolinecolor": "white"
           },
           "yaxis": {
            "backgroundcolor": "#E5ECF6",
            "gridcolor": "white",
            "gridwidth": 2,
            "linecolor": "white",
            "showbackground": true,
            "ticks": "",
            "zerolinecolor": "white"
           },
           "zaxis": {
            "backgroundcolor": "#E5ECF6",
            "gridcolor": "white",
            "gridwidth": 2,
            "linecolor": "white",
            "showbackground": true,
            "ticks": "",
            "zerolinecolor": "white"
           }
          },
          "shapedefaults": {
           "line": {
            "color": "#2a3f5f"
           }
          },
          "ternary": {
           "aaxis": {
            "gridcolor": "white",
            "linecolor": "white",
            "ticks": ""
           },
           "baxis": {
            "gridcolor": "white",
            "linecolor": "white",
            "ticks": ""
           },
           "bgcolor": "#E5ECF6",
           "caxis": {
            "gridcolor": "white",
            "linecolor": "white",
            "ticks": ""
           }
          },
          "title": {
           "x": 0.05
          },
          "xaxis": {
           "automargin": true,
           "gridcolor": "white",
           "linecolor": "white",
           "ticks": "",
           "title": {
            "standoff": 15
           },
           "zerolinecolor": "white",
           "zerolinewidth": 2
          },
          "yaxis": {
           "automargin": true,
           "gridcolor": "white",
           "linecolor": "white",
           "ticks": "",
           "title": {
            "standoff": 15
           },
           "zerolinecolor": "white",
           "zerolinewidth": 2
          }
         }
        },
        "title": {
         "text": "Parallel Coordinate Plot"
        }
       }
      }
     },
     "metadata": {},
     "output_type": "display_data"
    }
   ],
   "source": [
    "# Generate and display visualizations\n",
    "visualizations = [\n",
    "    optuna.visualization.plot_optimization_history,\n",
    "    optuna.visualization.plot_parallel_coordinate\n",
    "]\n",
    "# Show optimization paths\n",
    "for viz in visualizations:\n",
    "    viz(study_xgb).show()"
   ]
  },
  {
   "cell_type": "markdown",
   "metadata": {},
   "source": [
    "Se observa que en los tres primeros intentos ya tiene el valor máximo objetivo el cual mantiene a lo largo del proceso de optimización aunque con distintas combinaciones de parámetros. En este caso, vlores cercanos a 0.7 en el `learning_rate` con valores entre o.5 y 1 de `gamma` y valores entre 10 y 23 en cuanto al `max_depth` conllevan obtener el mejor valor de f1. Esto unido con valores bajos de `reg_alpha` y valores medios de `reg_lambda` mejoran la capcidad predictiva dle modelo.\n",
    "\n",
    "Se ajusta el modelo con los mejores hiperparámetros y se serializa el mismo."
   ]
  },
  {
   "cell_type": "code",
   "execution_count": 19,
   "metadata": {},
   "outputs": [
    {
     "data": {
      "text/plain": [
       "['/Users/borja/Documents/Somniumrema/projects/ml/class_trans/models/xgb_model.pkl']"
      ]
     },
     "execution_count": 19,
     "metadata": {},
     "output_type": "execute_result"
    }
   ],
   "source": [
    "# Train the final model with the best hyperparameters and save the trained model pipeline\n",
    "joblib.dump(\n",
    "    ImbPipeline([\n",
    "        ('smoteenn', SMOTE(sampling_strategy='minority', random_state=42)),\n",
    "        ('classifier', xgb.XGBClassifier(**study_xgb.best_params))\n",
    "    ]).fit(X_train_embeddings, y_train),\n",
    "    MODELS_DIR / 'xgb_model.pkl'\n",
    ")"
   ]
  },
  {
   "cell_type": "markdown",
   "metadata": {},
   "source": [
    "Se realizan predicciones con el modelo dando probabilidades respecto a al pertenencia de clase. Se estima un umbrla para maximizar la métrica en la asignación de clases para probabilidad. "
   ]
  },
  {
   "cell_type": "code",
   "execution_count": 50,
   "metadata": {},
   "outputs": [],
   "source": [
    "# Load the trained model pipeline and predict on validation set\n",
    "val_predictions_xgb = joblib.load(MODELS_DIR / 'xgb_model.pkl').predict_proba(X_val_embeddings)"
   ]
  },
  {
   "cell_type": "code",
   "execution_count": 76,
   "metadata": {},
   "outputs": [],
   "source": [
    "# Define a custom threshold\n",
    "threshold = 0.28\n",
    "\n",
    "# Apply the custom threshold to convert probabilities to class labels\n",
    "val_predictions_thresholded = (val_predictions_xgb >= threshold).astype(int)\n",
    "\n",
    "# Determine the final class label based on the highest probability\n",
    "val_predictions_labels = np.argmax(val_predictions_thresholded, axis=1)"
   ]
  },
  {
   "cell_type": "code",
   "execution_count": 77,
   "metadata": {},
   "outputs": [
    {
     "name": "stdout",
     "output_type": "stream",
     "text": [
      "              precision    recall  f1-score   support\n",
      "\n",
      "           0       0.46      0.57      0.51       161\n",
      "           1       0.90      0.85      0.88       739\n",
      "\n",
      "    accuracy                           0.80       900\n",
      "   macro avg       0.68      0.71      0.69       900\n",
      "weighted avg       0.82      0.80      0.81       900\n",
      "\n"
     ]
    }
   ],
   "source": [
    "# Print the classification report\n",
    "print(classification_report(y_val, val_predictions_labels))"
   ]
  },
  {
   "cell_type": "markdown",
   "metadata": {},
   "source": [
    "XGBoost muestra un mejor manejo de la clase minoritaria, con una precisión y F1-score para esa clase (0.46 y 0.51 frente a 0.37 y 0.49), lo que significa que tiene menos problemas para identificar observaciones de la misma. Asimimso mejora las métricas respecto a la clase mayoritaria por lo que dicho modelo XGBoost es el que se llevaría a producción."
   ]
  },
  {
   "cell_type": "code",
   "execution_count": 78,
   "metadata": {},
   "outputs": [
    {
     "data": {
      "image/png": "[encoded data removed]",
      "text/plain": [
       "<Figure size 800x600 with 2 Axes>"
      ]
     },
     "metadata": {},
     "output_type": "display_data"
    }
   ],
   "source": [
    "# Calculate and plot the confusion matrix\n",
    "conf_matrix = confusion_matrix(y_val, val_predictions_labels)\n",
    "plot_confusion_matrix(conf_matrix)"
   ]
  },
  {
   "cell_type": "markdown",
   "metadata": {},
   "source": [
    "Aunque los falsos negativos son inferiores, los falsos positivos son algo mayores, sin embargo en su conjunto el número de observaciones no clasificadas correctamente es menor otorgando a este modelo mejores valores de f1-score. Por este motivo se conparará la red neuronal obtenida anteriormente con este modelo "
   ]
  },
  {
   "cell_type": "markdown",
   "metadata": {},
   "source": [
    "# Comparación de modelos"
   ]
  },
  {
   "cell_type": "markdown",
   "metadata": {},
   "source": [
    "En la comparación de los resultados entre el modelo de red neuronal y el modelo XGBoost, podemos observar las siguientes diferencias clave:\n",
    "\n",
    "- **Clase 0:**\n",
    "\n",
    "La precisión del modelo de red neuronal tiene una precisión de 0.69, mientras que XGBoost alcanza 0.46. Esto indica que la red neuronal es más precisa en identificar correctamente las recomendaciones negativas mientras que XGBoost tiene más falsos positivos para esta clase. En cuanot al recall XGBoost (0.57) supera ligeramente a la red neuronal (0.52) en el para la clase 0, lo que significa que XGBoost es más eficaz en identificar correctamente las recomendaciones negativas, aunque lo hace a expensas de más falsos positivos.En cuanot a F1-Score la red neuronal tiene un mejor F1-score (0.59 vs 0.51), lo que significa que logra un mejor equilibrio entre precisión y recall en esta clase.\n",
    "\n",
    "- **Clase 1 (\"Recommended\"):**\n",
    "\n",
    "En cuanto a la precisión de ambos modelos, lo dos presentan valores similares para la clase mayoritaria con un 0.90 en ambos casos, lo que muestra que ambos son igualmente buenos en identificar correctamente las reseñas positivas. La red neuronal tiene un recall más alto (0.95 frente a 0.85 para XGBoost), lo que significa que es mejor identificando la mayoría de las recomemndaciones posirtivas frente a XGBoost. La red neuronal tiene un F1-score superior (0.92 frente a 0.88), lo que indica un mejor rendimiento general en la clase mayoritaria.\n",
    "\n",
    "De forma global la red neuronal tiene una mayor accuracy general (0.87 frente a 0.80 en XGBoost), lo que refleja un mejor rendimiento en la clasificación global. Adicionalmente supera también supera a XGBoost en el promedio macro (0.76 frente a 0.69), lo que indica que maneja mejor ambas clases de manera equilibrada, mientras que XGBoost tiende a penalizar más a la clase minoritaria. Lo mismo ocurre en el caso eel wieghted average (0.86 frente a 0.81).\n",
    "\n",
    "**Elección del modelo:**\n",
    "\n",
    "El modelo de red neuronal muestra un rendimiento superior, particularmente en el manejo de la clase mayoritaria \"Recommended\" con un mejor recall y F1-score, lo que lo convierte en una mejor opción para este problema si el objetivo es minimizar errores tanto en la clase mayoritaria como en la minoritaria. Sin embargo, si se necesita un mejor balance en la identificación de la clase minoritaria, XGBoost puede ser útil dado su mayor recall en la clase negativa, aunque sacrifica precisión global.\n",
    "\n",
    "En este caso se opta por la red neuronal al ser la opción más sólida para este caso, ya que maneja mejor el balance entre precisión y recall en ambas clases, mientras que XGBoost tiende a ser menos preciso en la clase minoritaria."
   ]
  },
  {
   "cell_type": "markdown",
   "metadata": {},
   "source": [
    "Al haberse elegido XGBosst entre ambos modelos, se procede a predecir las recomendaciones con el mismo. Se procede a cargar y hacer los embeddings para los datos contenidos en new_data.txt"
   ]
  },
  {
   "cell_type": "code",
   "execution_count": 9,
   "metadata": {},
   "outputs": [
    {
     "data": {
      "application/vnd.jupyter.widget-view+json": {
       "model_id": "46fe9bffacf44a29ba37ce16de6b2ac1",
       "version_major": 2,
       "version_minor": 0
      },
      "text/plain": [
       "Batches:   0%|          | 0/10 [00:00<?, ?it/s]"
      ]
     },
     "metadata": {},
     "output_type": "display_data"
    }
   ],
   "source": [
    "# Load the new data and apply the cleaning function\n",
    "new_data_embeddings = model.encode(new_data['cleaned_review'].tolist())\n",
    "\n",
    "# Load the trained model pipeline and predict on validation set\n",
    "val_predictions_xgb = joblib.load(MODELS_DIR / 'xgb_model.pkl').predict_proba(new_data_embeddings)\n"
   ]
  },
  {
   "cell_type": "markdown",
   "metadata": {},
   "source": [
    "Se utiliza el mismo threshold utilizado con el set de entrenamiento y validación"
   ]
  },
  {
   "cell_type": "code",
   "execution_count": 13,
   "metadata": {},
   "outputs": [],
   "source": [
    "# Define a custom threshold\n",
    "threshold = 0.28\n",
    "\n",
    "# Apply the custom threshold to convert probabilities to class labels\n",
    "val_predictions_thresholded = (val_predictions_xgb >= threshold).astype(int)\n",
    "\n",
    "# Determine the final class label based on the highest probability\n",
    "val_predictions_labels = np.argmax(val_predictions_thresholded, axis=1)"
   ]
  },
  {
   "cell_type": "markdown",
   "metadata": {},
   "source": [
    "Se salvan las recomendaciones en fichero txt"
   ]
  },
  {
   "cell_type": "code",
   "execution_count": 17,
   "metadata": {},
   "outputs": [
    {
     "name": "stdout",
     "output_type": "stream",
     "text": [
      "New data with predictions saved to /Users/borja/Documents/Somniumrema/projects/ml/class_trans/data/new_data_w_preds_xgboost.txt\n"
     ]
    }
   ],
   "source": [
    "# Add predictions to the DataFrame\n",
    "new_data['predictions'] = val_predictions_labels\n",
    "\n",
    "# Prepare the new dataset by dropping the 'cleaned_review' column\n",
    "new_data_prepared = new_data.drop(columns=['cleaned_review'])\n",
    "\n",
    "# Save the new dataset with predictions\n",
    "new_data_prepared.to_csv(DATA_DIR / 'new_data_w_preds_xgboost.txt', index=False, sep='\\t')\n",
    "\n",
    "print(f\"New data with predictions saved to {DATA_DIR / 'new_data_w_preds_xgboost.txt'}\")"
   ]
  }
 ],
 "metadata": {
  "kernelspec": {
   "display_name": "transformers-NzWHUvHY-py3.11",
   "language": "python",
   "name": "python3"
  },
  "language_info": {
   "codemirror_mode": {
    "name": "ipython",
    "version": 3
   },
   "file_extension": ".py",
   "mimetype": "text/x-python",
   "name": "python",
   "nbconvert_exporter": "python",
   "pygments_lexer": "ipython3",
   "version": "3.11.9"
  }
 },
 "nbformat": 4,
 "nbformat_minor": 2
}
